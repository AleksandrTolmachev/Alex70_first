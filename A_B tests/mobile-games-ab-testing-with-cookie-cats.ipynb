{
 "cells": [
  {
   "attachments": {},
   "cell_type": "markdown",
   "metadata": {
    "papermill": {
     "duration": 0.014059,
     "end_time": "2021-02-19T16:17:57.185499",
     "exception": false,
     "start_time": "2021-02-19T16:17:57.171440",
     "status": "completed"
    },
    "tags": []
   },
   "source": [
    "## <font color=\"#00bfff\">1.Cookie Cats and Project Goal</font>\n",
    "<p><a href=\"https://www.facebook.com/cookiecatsgame\">Cookie Cats</a> is a hugely popular mobile puzzle game developed by <a href=\"http://tactile.dk\">Tactile Entertainment</a>. It's a classic \"connect three\"-style puzzle game where the player must connect tiles of the same color to clear the board and win the level. \n",
    "    <p><img src=\"https://i.ytimg.com/vi/LkvnfULq8yQ/maxresdefault.jpg\" style=\"max-width:350px\"></p>\n",
    "<p>As players progress through the levels of the game, they will occasionally encounter gates that force them to wait a non-trivial amount of time or make an in-app purchase to progress. In addition to driving in-app purchases, these gates serve the important purpose of giving players an enforced break from playing the game, hopefully resulting in that the player's enjoyment of the game being increased and prolonged.</p>\n",
    "<p><img src=\"https://assets.datacamp.com/production/project_184/img/cc_gates.png\" style=\"max-width:350px\"></p>\n",
    "<p>But where should the gates be placed? Initially the first gate was placed at level 30, but in this notebook we're going to analyze an AB-test where we moved the first gate in Cookie Cats from level 30 to level 40. In particular, we will look at the impact on player retention. But before we get to that, a key step before undertaking any analysis is understanding the data.</p>\n"
   ]
  },
  {
   "attachments": {},
   "cell_type": "markdown",
   "metadata": {
    "papermill": {
     "duration": 0.012923,
     "end_time": "2021-02-19T16:17:57.211733",
     "exception": false,
     "start_time": "2021-02-19T16:17:57.198810",
     "status": "completed"
    },
    "tags": []
   },
   "source": [
    "## <font color=\"#00bfff\">2. Dataset and Variables</font>\n",
    "The data we have is from 90,189 players that installed the game while the AB-test was running. The variables are:\n",
    "\n",
    "<li><code>userid</code> - a unique number that identifies each player.</li>\n",
    "<li><code>version</code> - whether the player was put in the control group (<code>gate_30</code> - a gate at level 30) or the group with the moved gate (<code>gate_40</code> - a gate at level 40).</li>\n",
    "<li><code>sum_gamerounds</code> - the number of game rounds played by the player during the first 14 days after install.</li>\n",
    "<li><code>retention_1</code> - did the player come back and play <strong>1 day</strong> after installing?</li>\n",
    "<li><code>retention_7</code> - did the player come back and play <strong>7 days</strong> after installing?</li>\n",
    "\n",
    "<p>When a player installed the game, he or she was randomly assigned to either <code>gate_30</code> or <code>gate_40</code>.\n",
    "\n",
    " So let's load it in and take a look!"
   ]
  },
  {
   "cell_type": "code",
   "execution_count": 1,
   "metadata": {
    "execution": {
     "iopub.execute_input": "2021-02-19T16:17:57.242025Z",
     "iopub.status.busy": "2021-02-19T16:17:57.241026Z",
     "iopub.status.idle": "2021-02-19T16:17:57.374306Z",
     "shell.execute_reply": "2021-02-19T16:17:57.373220Z"
    },
    "papermill": {
     "duration": 0.149576,
     "end_time": "2021-02-19T16:17:57.374522",
     "exception": false,
     "start_time": "2021-02-19T16:17:57.224946",
     "status": "completed"
    },
    "tags": []
   },
   "outputs": [
    {
     "data": {
      "text/html": [
       "<div>\n",
       "<style scoped>\n",
       "    .dataframe tbody tr th:only-of-type {\n",
       "        vertical-align: middle;\n",
       "    }\n",
       "\n",
       "    .dataframe tbody tr th {\n",
       "        vertical-align: top;\n",
       "    }\n",
       "\n",
       "    .dataframe thead th {\n",
       "        text-align: right;\n",
       "    }\n",
       "</style>\n",
       "<table border=\"1\" class=\"dataframe\">\n",
       "  <thead>\n",
       "    <tr style=\"text-align: right;\">\n",
       "      <th></th>\n",
       "      <th>userid</th>\n",
       "      <th>version</th>\n",
       "      <th>sum_gamerounds</th>\n",
       "      <th>retention_1</th>\n",
       "      <th>retention_7</th>\n",
       "    </tr>\n",
       "  </thead>\n",
       "  <tbody>\n",
       "    <tr>\n",
       "      <th>0</th>\n",
       "      <td>116</td>\n",
       "      <td>gate_30</td>\n",
       "      <td>3</td>\n",
       "      <td>False</td>\n",
       "      <td>False</td>\n",
       "    </tr>\n",
       "    <tr>\n",
       "      <th>1</th>\n",
       "      <td>337</td>\n",
       "      <td>gate_30</td>\n",
       "      <td>38</td>\n",
       "      <td>True</td>\n",
       "      <td>False</td>\n",
       "    </tr>\n",
       "    <tr>\n",
       "      <th>2</th>\n",
       "      <td>377</td>\n",
       "      <td>gate_40</td>\n",
       "      <td>165</td>\n",
       "      <td>True</td>\n",
       "      <td>False</td>\n",
       "    </tr>\n",
       "    <tr>\n",
       "      <th>3</th>\n",
       "      <td>483</td>\n",
       "      <td>gate_40</td>\n",
       "      <td>1</td>\n",
       "      <td>False</td>\n",
       "      <td>False</td>\n",
       "    </tr>\n",
       "    <tr>\n",
       "      <th>4</th>\n",
       "      <td>488</td>\n",
       "      <td>gate_40</td>\n",
       "      <td>179</td>\n",
       "      <td>True</td>\n",
       "      <td>True</td>\n",
       "    </tr>\n",
       "  </tbody>\n",
       "</table>\n",
       "</div>"
      ],
      "text/plain": [
       "   userid  version  sum_gamerounds  retention_1  retention_7\n",
       "0     116  gate_30               3        False        False\n",
       "1     337  gate_30              38         True        False\n",
       "2     377  gate_40             165         True        False\n",
       "3     483  gate_40               1        False        False\n",
       "4     488  gate_40             179         True         True"
      ]
     },
     "execution_count": 1,
     "metadata": {},
     "output_type": "execute_result"
    }
   ],
   "source": [
    "# Importing pandas\n",
    "import pandas as pd\n",
    "import matplotlib.pyplot as plt\n",
    "\n",
    "# Reading the data set\n",
    "df = pd.read_csv(\"../input/mobile-games-ab-testing-cookie-cats/cookie_cats.csv\")\n",
    "\n",
    "# Showing the first few rows\n",
    "df.head()"
   ]
  },
  {
   "attachments": {},
   "cell_type": "markdown",
   "metadata": {
    "papermill": {
     "duration": 0.013408,
     "end_time": "2021-02-19T16:17:57.402081",
     "exception": false,
     "start_time": "2021-02-19T16:17:57.388673",
     "status": "completed"
    },
    "tags": []
   },
   "source": [
    "## <font color=\"#00bfff\">3. Descriptive Statistics</font>\n",
    "\n",
    "\n",
    "<p><img src=\"https://assets.datacamp.com/production/project_184/img/mr_waffles_smiling.png\" style=\"width:150px; float:right;margin: -15px 20px 1px 15px;\"> </p>\n",
    "\n",
    "Let's deep dive into dataset and try to observe the differences between A/B group in terms of given variables. \n",
    "\n",
    "First, look at how many players we have."
   ]
  },
  {
   "cell_type": "code",
   "execution_count": 2,
   "metadata": {
    "execution": {
     "iopub.execute_input": "2021-02-19T16:17:57.434080Z",
     "iopub.status.busy": "2021-02-19T16:17:57.433334Z",
     "iopub.status.idle": "2021-02-19T16:17:57.443922Z",
     "shell.execute_reply": "2021-02-19T16:17:57.444476Z"
    },
    "papermill": {
     "duration": 0.029082,
     "end_time": "2021-02-19T16:17:57.444673",
     "exception": false,
     "start_time": "2021-02-19T16:17:57.415591",
     "status": "completed"
    },
    "tags": []
   },
   "outputs": [
    {
     "data": {
      "text/plain": [
       "90189"
      ]
     },
     "execution_count": 2,
     "metadata": {},
     "output_type": "execute_result"
    }
   ],
   "source": [
    "# Number of unique player\n",
    "df[\"userid\"].nunique()"
   ]
  },
  {
   "attachments": {},
   "cell_type": "markdown",
   "metadata": {
    "papermill": {
     "duration": 0.013761,
     "end_time": "2021-02-19T16:17:57.472710",
     "exception": false,
     "start_time": "2021-02-19T16:17:57.458949",
     "status": "completed"
    },
    "tags": []
   },
   "source": [
    "As a sanity check, let's see if there are roughly the same number of players in each A/B group."
   ]
  },
  {
   "cell_type": "code",
   "execution_count": 3,
   "metadata": {
    "execution": {
     "iopub.execute_input": "2021-02-19T16:17:57.504016Z",
     "iopub.status.busy": "2021-02-19T16:17:57.503343Z",
     "iopub.status.idle": "2021-02-19T16:17:57.535074Z",
     "shell.execute_reply": "2021-02-19T16:17:57.535612Z"
    },
    "papermill": {
     "duration": 0.049012,
     "end_time": "2021-02-19T16:17:57.535788",
     "exception": false,
     "start_time": "2021-02-19T16:17:57.486776",
     "status": "completed"
    },
    "tags": []
   },
   "outputs": [
    {
     "data": {
      "text/html": [
       "<div>\n",
       "<style scoped>\n",
       "    .dataframe tbody tr th:only-of-type {\n",
       "        vertical-align: middle;\n",
       "    }\n",
       "\n",
       "    .dataframe tbody tr th {\n",
       "        vertical-align: top;\n",
       "    }\n",
       "\n",
       "    .dataframe thead th {\n",
       "        text-align: right;\n",
       "    }\n",
       "</style>\n",
       "<table border=\"1\" class=\"dataframe\">\n",
       "  <thead>\n",
       "    <tr style=\"text-align: right;\">\n",
       "      <th></th>\n",
       "      <th>userid</th>\n",
       "    </tr>\n",
       "    <tr>\n",
       "      <th>version</th>\n",
       "      <th></th>\n",
       "    </tr>\n",
       "  </thead>\n",
       "  <tbody>\n",
       "    <tr>\n",
       "      <th>gate_30</th>\n",
       "      <td>44700</td>\n",
       "    </tr>\n",
       "    <tr>\n",
       "      <th>gate_40</th>\n",
       "      <td>45489</td>\n",
       "    </tr>\n",
       "  </tbody>\n",
       "</table>\n",
       "</div>"
      ],
      "text/plain": [
       "         userid\n",
       "version        \n",
       "gate_30   44700\n",
       "gate_40   45489"
      ]
     },
     "execution_count": 3,
     "metadata": {},
     "output_type": "execute_result"
    }
   ],
   "source": [
    "# Counting the number of players in each A/B group.\n",
    "df.groupby(\"version\")[[\"userid\"]].nunique()"
   ]
  },
  {
   "attachments": {},
   "cell_type": "markdown",
   "metadata": {
    "papermill": {
     "duration": 0.014395,
     "end_time": "2021-02-19T16:17:57.565918",
     "exception": false,
     "start_time": "2021-02-19T16:17:57.551523",
     "status": "completed"
    },
    "tags": []
   },
   "source": [
    "It looks like there is roughly the same number of players in each group, nice! \n",
    "\n",
    "The focus of this analysis will be on how the gate placement affects player retention, but just for fun: Let's plot the distribution of the number of game rounds players played during their first week playing the game."
   ]
  },
  {
   "cell_type": "code",
   "execution_count": 4,
   "metadata": {
    "execution": {
     "iopub.execute_input": "2021-02-19T16:17:57.598446Z",
     "iopub.status.busy": "2021-02-19T16:17:57.597847Z",
     "iopub.status.idle": "2021-02-19T16:17:57.806147Z",
     "shell.execute_reply": "2021-02-19T16:17:57.806709Z"
    },
    "papermill": {
     "duration": 0.226332,
     "end_time": "2021-02-19T16:17:57.806935",
     "exception": false,
     "start_time": "2021-02-19T16:17:57.580603",
     "status": "completed"
    },
    "tags": []
   },
   "outputs": [
    {
     "data": {
      "image/png": "[encoded data removed]",
      "text/plain": [
       "<Figure size 432x288 with 1 Axes>"
      ]
     },
     "metadata": {
      "needs_background": "light"
     },
     "output_type": "display_data"
    }
   ],
   "source": [
    "# The distribution of game rounds\n",
    "\n",
    "# Counting the number of players for each number of gamerounds \n",
    "plot_df = df.groupby(\"sum_gamerounds\")[\"userid\"].count()\n",
    "\n",
    "# Plotting the distribution of players that played 0 to 100 game rounds\n",
    "ax = plot_df.head(100).plot()\n",
    "plt.title(\"The distribution of players\", fontweight=\"bold\", size=14)\n",
    "plt.xlabel(\"total gamerounds\", size=12)\n",
    "plt.ylabel(\"number of player\", size=12)\n",
    "plt.show()"
   ]
  },
  {
   "attachments": {},
   "cell_type": "markdown",
   "metadata": {
    "papermill": {
     "duration": 0.015506,
     "end_time": "2021-02-19T16:17:57.839476",
     "exception": false,
     "start_time": "2021-02-19T16:17:57.823970",
     "status": "completed"
    },
    "tags": []
   },
   "source": [
    "In the plot above we can see that some players install the game but then never play it (0 game rounds). Let's find there are how many of them."
   ]
  },
  {
   "cell_type": "code",
   "execution_count": 5,
   "metadata": {
    "execution": {
     "iopub.execute_input": "2021-02-19T16:17:57.875052Z",
     "iopub.status.busy": "2021-02-19T16:17:57.874385Z",
     "iopub.status.idle": "2021-02-19T16:17:57.899528Z",
     "shell.execute_reply": "2021-02-19T16:17:57.898954Z"
    },
    "papermill": {
     "duration": 0.044506,
     "end_time": "2021-02-19T16:17:57.899690",
     "exception": false,
     "start_time": "2021-02-19T16:17:57.855184",
     "status": "completed"
    },
    "tags": []
   },
   "outputs": [
    {
     "data": {
      "text/plain": [
       "3994"
      ]
     },
     "execution_count": 5,
     "metadata": {},
     "output_type": "execute_result"
    }
   ],
   "source": [
    "df[df[\"sum_gamerounds\"]== 0][\"userid\"].count()"
   ]
  },
  {
   "attachments": {},
   "cell_type": "markdown",
   "metadata": {
    "papermill": {
     "duration": 0.015746,
     "end_time": "2021-02-19T16:17:57.931597",
     "exception": false,
     "start_time": "2021-02-19T16:17:57.915851",
     "status": "completed"
    },
    "tags": []
   },
   "source": [
    "<p><img src=\"https://assets.datacamp.com/production/project_184/img/belle_cookie.png\" style=\"width:150px; float:right\"> </p>\n",
    "\n",
    "3994 players never played the game, just installed it. Is it too much? \n",
    "\n",
    "A common metric in the video gaming industry for how fun and engaging a game is retention: The percentage of players that come back and play the game 1-day and 7-days after they have installed it. The higher retention is, the easier it is to retain players and build a large player base.\n",
    "\n",
    "As a first step, let's look at what 1-day and 7-days retentions are overall."
   ]
  },
  {
   "cell_type": "code",
   "execution_count": 6,
   "metadata": {
    "execution": {
     "iopub.execute_input": "2021-02-19T16:17:57.967507Z",
     "iopub.status.busy": "2021-02-19T16:17:57.966532Z",
     "iopub.status.idle": "2021-02-19T16:17:57.977058Z",
     "shell.execute_reply": "2021-02-19T16:17:57.977515Z"
    },
    "papermill": {
     "duration": 0.030074,
     "end_time": "2021-02-19T16:17:57.977715",
     "exception": false,
     "start_time": "2021-02-19T16:17:57.947641",
     "status": "completed"
    },
    "tags": []
   },
   "outputs": [
    {
     "name": "stdout",
     "output_type": "stream",
     "text": [
      "1-day retention ratio: 44.52%       \n",
      "7-days retention ratio: 18.61%\n"
     ]
    }
   ],
   "source": [
    "df_retention = df[[\"retention_1\",\"retention_7\"]].mean()*100\n",
    "print(f\"1-day retention ratio: {round(df_retention[0],2)}% \\\n",
    "      \\n7-days retention ratio: {round(df_retention[1],2)}%\")"
   ]
  },
  {
   "attachments": {},
   "cell_type": "markdown",
   "metadata": {
    "papermill": {
     "duration": 0.016183,
     "end_time": "2021-02-19T16:17:58.010728",
     "exception": false,
     "start_time": "2021-02-19T16:17:57.994545",
     "status": "completed"
    },
    "tags": []
   },
   "source": [
    "So, a little less than half of the players come back one day after installing the game. 18 percent of the players come back 7 day after installing the game. \n",
    "\n",
    "Now that we have a benchmark, let's look at how retention rates differs between the two A/B groups."
   ]
  },
  {
   "cell_type": "code",
   "execution_count": 7,
   "metadata": {
    "execution": {
     "iopub.execute_input": "2021-02-19T16:17:58.055483Z",
     "iopub.status.busy": "2021-02-19T16:17:58.051187Z",
     "iopub.status.idle": "2021-02-19T16:17:58.074485Z",
     "shell.execute_reply": "2021-02-19T16:17:58.073973Z"
    },
    "papermill": {
     "duration": 0.047395,
     "end_time": "2021-02-19T16:17:58.074649",
     "exception": false,
     "start_time": "2021-02-19T16:17:58.027254",
     "status": "completed"
    },
    "tags": []
   },
   "outputs": [
    {
     "data": {
      "text/html": [
       "<div>\n",
       "<style scoped>\n",
       "    .dataframe tbody tr th:only-of-type {\n",
       "        vertical-align: middle;\n",
       "    }\n",
       "\n",
       "    .dataframe tbody tr th {\n",
       "        vertical-align: top;\n",
       "    }\n",
       "\n",
       "    .dataframe thead th {\n",
       "        text-align: right;\n",
       "    }\n",
       "</style>\n",
       "<table border=\"1\" class=\"dataframe\">\n",
       "  <thead>\n",
       "    <tr style=\"text-align: right;\">\n",
       "      <th></th>\n",
       "      <th>userid</th>\n",
       "      <th>retention_1</th>\n",
       "      <th>retention_7</th>\n",
       "      <th>sum_gamerounds</th>\n",
       "    </tr>\n",
       "    <tr>\n",
       "      <th>version</th>\n",
       "      <th></th>\n",
       "      <th></th>\n",
       "      <th></th>\n",
       "      <th></th>\n",
       "    </tr>\n",
       "  </thead>\n",
       "  <tbody>\n",
       "    <tr>\n",
       "      <th>gate_30</th>\n",
       "      <td>44700</td>\n",
       "      <td>0.448188</td>\n",
       "      <td>0.190201</td>\n",
       "      <td>2344795</td>\n",
       "    </tr>\n",
       "    <tr>\n",
       "      <th>gate_40</th>\n",
       "      <td>45489</td>\n",
       "      <td>0.442283</td>\n",
       "      <td>0.182000</td>\n",
       "      <td>2333530</td>\n",
       "    </tr>\n",
       "  </tbody>\n",
       "</table>\n",
       "</div>"
      ],
      "text/plain": [
       "         userid  retention_1  retention_7  sum_gamerounds\n",
       "version                                                  \n",
       "gate_30   44700     0.448188     0.190201         2344795\n",
       "gate_40   45489     0.442283     0.182000         2333530"
      ]
     },
     "execution_count": 7,
     "metadata": {},
     "output_type": "execute_result"
    }
   ],
   "source": [
    "# Calculating 1-day and 7-days retention for each A/B group\n",
    "df_retention_ab = df.groupby(\"version\").agg({\"userid\":\"count\", \"retention_1\":\"mean\",\"retention_7\":\"mean\", \"sum_gamerounds\":\"sum\"})\n",
    "df_retention_ab"
   ]
  },
  {
   "attachments": {},
   "cell_type": "markdown",
   "metadata": {
    "papermill": {
     "duration": 0.016845,
     "end_time": "2021-02-19T16:17:58.108794",
     "exception": false,
     "start_time": "2021-02-19T16:17:58.091949",
     "status": "completed"
    },
    "tags": []
   },
   "source": [
    "<p><img src=\"https://assets.datacamp.com/production/project_184/img/ziggy_smiling.png\" style=\"width:150px; float:left;margin:20px 10px 5px 5px;\"> </p>\n",
    "\n",
    "* There was a slight decrease in 1-day retention when the gate was moved to level 40 (44.2%) compared to the control group when it was at level 30 (44.8%). \n",
    "\n",
    "* Again,a decrease in 7-day retention when the gate was moved to level 40 (18.2%) compared to the control group when it was at level 30 (19.8%). \n",
    "\n",
    "* It's a small change, but even small changes in retention can have a large impact. But while we are certain of the difference in the data, how certain should we be that a gate at level 40 will be worse in the future?\n",
    "\n",
    "There are a couple of ways we can get at the certainty of these retention numbers. Here we will use **bootstrapping.**"
   ]
  },
  {
   "attachments": {},
   "cell_type": "markdown",
   "metadata": {
    "papermill": {
     "duration": 0.016756,
     "end_time": "2021-02-19T16:17:58.142841",
     "exception": false,
     "start_time": "2021-02-19T16:17:58.126085",
     "status": "completed"
    },
    "tags": []
   },
   "source": [
    "## <font color=\"#00bfff\"> 4. A/B Testing: Bootstrapping </font>\n",
    "\n",
    "**Definiton of Method**\n",
    "\n",
    "<p><img src=\"https://upload.wikimedia.org/wikipedia/commons/thumb/f/fa/Stratified_sampling.PNG/300px-Stratified_sampling.PNG\" style=\" float: right;margin:5px 20px 5px 1px; max-width:250px\"></p>\n",
    "\n",
    "We'll use **bootstrapping** for A/B testing. The basic idea of bootstrapping is that inference about a population from sample data (sample → population) can be modelled by resampling the sample data and performing inference about a sample from resampled data (resampled → sample). As the population is unknown, the true error in a sample statistic against its population value is unknown. In bootstrap-resamples, the 'population' is in fact the sample, and this is known; hence the quality of inference of the 'true' sample from resampled data (resampled → sample) is measurable. [This information retrieved from Wikipedia](https://en.wikipedia.org/wiki/Bootstrapping_(statistics)\n",
    "\n",
    "**Testing Steps:**\n",
    "1. Creating 500 samples of dataset **(bootstraping)**\n",
    "2. Calculating 1-day & 7-days retentions for A/B groups\n",
    "3. Plotting the bootstrap distributions\n",
    "4. Calculating retention rate difference between the two A/B groups\n",
    "5. Calculating the probability that 1-day & 7-days retentions are greater when the gate is at level 30\n",
    "6. Evaluating results and making recommendation"
   ]
  },
  {
   "cell_type": "code",
   "execution_count": 8,
   "metadata": {
    "execution": {
     "iopub.execute_input": "2021-02-19T16:17:58.201718Z",
     "iopub.status.busy": "2021-02-19T16:17:58.197830Z",
     "iopub.status.idle": "2021-02-19T16:18:16.985380Z",
     "shell.execute_reply": "2021-02-19T16:18:16.984732Z"
    },
    "papermill": {
     "duration": 18.825564,
     "end_time": "2021-02-19T16:18:16.985523",
     "exception": false,
     "start_time": "2021-02-19T16:17:58.159959",
     "status": "completed"
    },
    "tags": []
   },
   "outputs": [
    {
     "data": {
      "image/png": "[encoded data removed]",
      "text/plain": [
       "<Figure size 936x360 with 2 Axes>"
      ]
     },
     "metadata": {
      "needs_background": "light"
     },
     "output_type": "display_data"
    }
   ],
   "source": [
    "# Creating an list with bootstrapped means for each A/B group\n",
    "boot_1d = []\n",
    "boot_7d = []\n",
    "for i in range(500):\n",
    "    boot_mean_1 = df.sample(frac=1, replace=True).groupby('version')['retention_1'].mean()\n",
    "    boot_mean_7 = df.sample(frac=1, replace=True).groupby('version')['retention_7'].mean()\n",
    "    boot_1d.append(boot_mean_1)\n",
    "    boot_7d.append(boot_mean_7)\n",
    "    \n",
    "# Transforming the list to a DataFrame\n",
    "boot_1d = pd.DataFrame(boot_1d)\n",
    "boot_7d = pd.DataFrame(boot_7d)\n",
    "\n",
    "# Kernel Density Estimate plot of the bootstrap distributions\n",
    "fig, (ax1,ax2) = plt.subplots(1, 2, sharey=True, figsize=(13,5))\n",
    "\n",
    "boot_1d.plot.kde(ax=ax1)\n",
    "ax1.set_xlabel(\"retantion rate\",size=12)\n",
    "ax1.set_ylabel(\"number of sample\",size=12)\n",
    "ax1.set_title(\"1 day retention rate distribution\", fontweight=\"bold\",size=14)\n",
    "\n",
    "boot_7d.plot.kde(ax=ax2)\n",
    "ax2.set_xlabel(\"retantion rate\",size=12)\n",
    "ax2.set_title(\"7 days retention rate distribution\", fontweight=\"bold\",size=14)\n",
    "plt.show()"
   ]
  },
  {
   "attachments": {},
   "cell_type": "markdown",
   "metadata": {
    "papermill": {
     "duration": 0.018398,
     "end_time": "2021-02-19T16:18:17.023622",
     "exception": false,
     "start_time": "2021-02-19T16:18:17.005224",
     "status": "completed"
    },
    "tags": []
   },
   "source": [
    "<p>These two distributions above represent the bootstrap uncertainty over what the underlying 1-day & 7-days retention could be for the two A/B groups. Just eyeballing this plot, we can see that there seems to be some evidence of a difference, albeit small. Let's zoom in on the differences.</p>\n",
    "<p>(<em>Note that in this notebook we have limited the number of bootstrap replication to 500 to keep the calculations quick. In \"production\" we would likely increase this to a much larger number, say, 10 000.</em>)</p>"
   ]
  },
  {
   "cell_type": "code",
   "execution_count": 9,
   "metadata": {
    "execution": {
     "iopub.execute_input": "2021-02-19T16:18:17.073057Z",
     "iopub.status.busy": "2021-02-19T16:18:17.072285Z",
     "iopub.status.idle": "2021-02-19T16:18:17.318709Z",
     "shell.execute_reply": "2021-02-19T16:18:17.318186Z"
    },
    "papermill": {
     "duration": 0.276565,
     "end_time": "2021-02-19T16:18:17.318850",
     "exception": false,
     "start_time": "2021-02-19T16:18:17.042285",
     "status": "completed"
    },
    "tags": []
   },
   "outputs": [
    {
     "data": {
      "image/png": "[encoded data removed]",
      "text/plain": [
       "<Figure size 432x360 with 1 Axes>"
      ]
     },
     "metadata": {
      "needs_background": "light"
     },
     "output_type": "display_data"
    }
   ],
   "source": [
    "# Adding a column with the % difference between the two A/B groups\n",
    "boot_1d['diff'] = ((boot_1d['gate_30'] - boot_1d['gate_40']) / boot_1d['gate_40'] * 100)\n",
    "boot_7d['diff'] = ((boot_7d['gate_30'] - boot_7d['gate_40']) / boot_7d['gate_40'] * 100)\n",
    "\n",
    "# Ploting the bootstrap % difference\n",
    "fig, (ax1) = plt.subplots(1, 1,figsize=(6,5))\n",
    "\n",
    "boot_1d['diff'].plot.kde(ax=ax1, c=\"#ff99ff\", label = \"1 day retention\")\n",
    "boot_7d['diff'].plot.kde(ax=ax1, c= \"#00bfff\", label = \"7 days retention\")\n",
    "ax1.set_xlabel(\"% difference\",size=12)\n",
    "ax1.set_ylabel(\"% density\",size=12)\n",
    "ax1.set_title(\"Difference in retention \\n between the two A/B groups\", fontweight=\"bold\", size=14)\n",
    "plt.legend()\n",
    "plt.show()"
   ]
  },
  {
   "attachments": {},
   "cell_type": "markdown",
   "metadata": {
    "papermill": {
     "duration": 0.020025,
     "end_time": "2021-02-19T16:18:17.359044",
     "exception": false,
     "start_time": "2021-02-19T16:18:17.339019",
     "status": "completed"
    },
    "tags": []
   },
   "source": [
    "<p><img src=\"https://assets.datacamp.com/production/project_184/img/ziggy_smiling.png\" style=\"width:100px; float:left; margin:10px 10px 5px 5px;\"> </p>\n",
    "<p>From these chart, we can see that the most likely % difference is around 1% - 2% for 1-day retention. For 7-days retention the most likely % difference is around 2% - 5%. Moreover, the most of the distribution is above 0%, in favor of a gate at level 30. But what is the probability that the difference is above 0%? Let's calculate that as well.</p>"
   ]
  },
  {
   "cell_type": "code",
   "execution_count": 10,
   "metadata": {
    "execution": {
     "iopub.execute_input": "2021-02-19T16:18:17.407391Z",
     "iopub.status.busy": "2021-02-19T16:18:17.406554Z",
     "iopub.status.idle": "2021-02-19T16:18:17.410517Z",
     "shell.execute_reply": "2021-02-19T16:18:17.411168Z"
    },
    "papermill": {
     "duration": 0.031628,
     "end_time": "2021-02-19T16:18:17.411394",
     "exception": false,
     "start_time": "2021-02-19T16:18:17.379766",
     "status": "completed"
    },
    "tags": []
   },
   "outputs": [
    {
     "name": "stdout",
     "output_type": "stream",
     "text": [
      "The probability that 1-day retention is greater when the gate is at level 30: 97.0%       \n",
      "The probability that 7-days retention is greater when the gate is at level 30: 100.0% \n"
     ]
    }
   ],
   "source": [
    "# Calculating the probability that 1-day retention is greater when the gate is at level 30\n",
    "prob_1 = (boot_1d['diff']>0).sum()/len(boot_1d['diff'])\n",
    "\n",
    "# Calculating the probability that 7-days retention is greater when the gate is at level 30\n",
    "prob_7 = (boot_7d['diff']>0).sum()/len(boot_7d['diff'])\n",
    "\n",
    "# Pretty printing the probability\n",
    "print(f\"The probability that 1-day retention is greater when the gate is at level 30: {round(prob_1,2)*100}% \\\n",
    "      \\nThe probability that 7-days retention is greater when the gate is at level 30: {(prob_7)*100}% \")"
   ]
  },
  {
   "attachments": {},
   "cell_type": "markdown",
   "metadata": {
    "papermill": {
     "duration": 0.020177,
     "end_time": "2021-02-19T16:18:17.452905",
     "exception": false,
     "start_time": "2021-02-19T16:18:17.432728",
     "status": "completed"
    },
    "tags": []
   },
   "source": [
    "## <font color=\"00bfff\">5. The conclusion</font>\n",
    "\n",
    "<p><img src=\"https://assets.datacamp.com/production/project_184/img/cookie_yellow.png\" style=\"width:150px; float:right\"> </p>\n",
    "\n",
    "The bootstrap result tells us that there is strong evidence **99.8% probability** that 7-day retention is higher when the gate is at level 30 than when it is at level 40.\n",
    "\n",
    "The conclusion is: If we want to keep retention high — both 1-day and 7-day retention — we should <strong>not</strong> move the gate from level 30 to level 40. There are, of course, other metrics we could look at, like the number of game rounds played or how much in-game purchases are made by the two AB-groups. But retention <em>is</em> one of the most important metrics.\n",
    "\n",
    "You can reach the case study from [DataCamp](https://www.datacamp.com/projects/184) ❤️"
   ]
  },
  {
   "cell_type": "code",
   "execution_count": null,
   "metadata": {
    "papermill": {
     "duration": 0.020228,
     "end_time": "2021-02-19T16:18:17.493642",
     "exception": false,
     "start_time": "2021-02-19T16:18:17.473414",
     "status": "completed"
    },
    "tags": []
   },
   "outputs": [],
   "source": []
  }
 ],
 "metadata": {
  "kernelspec": {
   "display_name": "Python 3",
   "language": "python",
   "name": "python3"
  },
  "language_info": {
   "codemirror_mode": {
    "name": "ipython",
    "version": 3
   },
   "file_extension": ".py",
   "mimetype": "text/x-python",
   "name": "python",
   "nbconvert_exporter": "python",
   "pygments_lexer": "ipython3",
   "version": "3.7.9"
  },
  "papermill": {
   "default_parameters": {},
   "duration": 26.544346,
   "end_time": "2021-02-19T16:18:18.124291",
   "environment_variables": {},
   "exception": null,
   "input_path": "__notebook__.ipynb",
   "output_path": "__notebook__.ipynb",
   "parameters": {},
   "start_time": "2021-02-19T16:17:51.579945",
   "version": "2.2.2"
  }
 },
 "nbformat": 4,
 "nbformat_minor": 4
}
