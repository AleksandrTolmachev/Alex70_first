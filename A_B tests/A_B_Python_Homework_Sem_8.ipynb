{
  "cells": [
    {
      "attachments": {},
      "cell_type": "markdown",
      "metadata": {
        "id": "P8x5TKkEiz3H"
      },
      "source": [
        "## A/B tests с Python"
      ]
    },
    {
      "attachments": {},
      "cell_type": "markdown",
      "metadata": {},
      "source": [
        "### Урок 8. Python применение статистических критериев на практике - пайплайн оценки A/B"
      ]
    },
    {
      "attachments": {},
      "cell_type": "markdown",
      "metadata": {},
      "source": [
        "#### Задание: На сайте запущен А/В тест с целью увеличить доход. В приложенном excel файле вы найдете сырые данные по результатам эксперимента – user_id, тип выборки variant_name и доход принесенный пользователем revenue. Проанализируйте результаты эксперимента и напишите свои рекомендации менеджеру."
      ]
    },
    {
      "attachments": {},
      "cell_type": "markdown",
      "metadata": {
        "id": "3rFDZCpXiz3K"
      },
      "source": [
        "<a id=\"Libraries\"></a>\n",
        "##  Загрузка библиотек "
      ]
    },
    {
      "cell_type": "code",
      "execution_count": 1,
      "metadata": {
        "id": "oqZPz9Bmiz3L"
      },
      "outputs": [],
      "source": [
        "from scipy import stats\n",
        "import numpy as np\n",
        "\n",
        "import warnings\n",
        "warnings.filterwarnings('ignore')\n",
        "warnings.warn('DelftStack')\n",
        "warnings.warn('Do not show this message')\n",
        "\n"
      ]
    },
    {
      "cell_type": "code",
      "execution_count": 2,
      "metadata": {
        "id": "squsMqBBiz3M"
      },
      "outputs": [],
      "source": [
        "import matplotlib.pyplot as plt\n",
        "import seaborn as sns\n",
        "import pandas as pd\n"
      ]
    },
    {
      "attachments": {},
      "cell_type": "markdown",
      "metadata": {
        "id": "oVKHHkxyMWzC"
      },
      "source": [
        "# Подготовка данных"
      ]
    },
    {
      "cell_type": "code",
      "execution_count": 3,
      "metadata": {
        "colab": {
          "base_uri": "https://localhost:8080/",
          "height": 363
        },
        "id": "irWHhzcdvDKP",
        "outputId": "d769731f-973d-4538-869f-e1c0e441590b"
      },
      "outputs": [
        {
          "data": {
            "text/html": [
              "<div>\n",
              "<style scoped>\n",
              "    .dataframe tbody tr th:only-of-type {\n",
              "        vertical-align: middle;\n",
              "    }\n",
              "\n",
              "    .dataframe tbody tr th {\n",
              "        vertical-align: top;\n",
              "    }\n",
              "\n",
              "    .dataframe thead th {\n",
              "        text-align: right;\n",
              "    }\n",
              "</style>\n",
              "<table border=\"1\" class=\"dataframe\">\n",
              "  <thead>\n",
              "    <tr style=\"text-align: right;\">\n",
              "      <th></th>\n",
              "      <th>USER_ID</th>\n",
              "      <th>VARIANT_NAME</th>\n",
              "      <th>REVENUE</th>\n",
              "    </tr>\n",
              "  </thead>\n",
              "  <tbody>\n",
              "    <tr>\n",
              "      <th>0</th>\n",
              "      <td>737</td>\n",
              "      <td>variant</td>\n",
              "      <td>0.0</td>\n",
              "    </tr>\n",
              "    <tr>\n",
              "      <th>1</th>\n",
              "      <td>2423</td>\n",
              "      <td>control</td>\n",
              "      <td>0.0</td>\n",
              "    </tr>\n",
              "    <tr>\n",
              "      <th>2</th>\n",
              "      <td>9411</td>\n",
              "      <td>control</td>\n",
              "      <td>0.0</td>\n",
              "    </tr>\n",
              "    <tr>\n",
              "      <th>3</th>\n",
              "      <td>7311</td>\n",
              "      <td>control</td>\n",
              "      <td>0.0</td>\n",
              "    </tr>\n",
              "    <tr>\n",
              "      <th>4</th>\n",
              "      <td>6174</td>\n",
              "      <td>variant</td>\n",
              "      <td>0.0</td>\n",
              "    </tr>\n",
              "    <tr>\n",
              "      <th>5</th>\n",
              "      <td>2380</td>\n",
              "      <td>variant</td>\n",
              "      <td>0.0</td>\n",
              "    </tr>\n",
              "    <tr>\n",
              "      <th>6</th>\n",
              "      <td>2849</td>\n",
              "      <td>control</td>\n",
              "      <td>0.0</td>\n",
              "    </tr>\n",
              "    <tr>\n",
              "      <th>7</th>\n",
              "      <td>9168</td>\n",
              "      <td>control</td>\n",
              "      <td>0.0</td>\n",
              "    </tr>\n",
              "    <tr>\n",
              "      <th>8</th>\n",
              "      <td>6205</td>\n",
              "      <td>variant</td>\n",
              "      <td>0.0</td>\n",
              "    </tr>\n",
              "    <tr>\n",
              "      <th>9</th>\n",
              "      <td>7548</td>\n",
              "      <td>control</td>\n",
              "      <td>0.0</td>\n",
              "    </tr>\n",
              "  </tbody>\n",
              "</table>\n",
              "</div>"
            ],
            "text/plain": [
              "   USER_ID VARIANT_NAME  REVENUE\n",
              "0      737      variant      0.0\n",
              "1     2423      control      0.0\n",
              "2     9411      control      0.0\n",
              "3     7311      control      0.0\n",
              "4     6174      variant      0.0\n",
              "5     2380      variant      0.0\n",
              "6     2849      control      0.0\n",
              "7     9168      control      0.0\n",
              "8     6205      variant      0.0\n",
              "9     7548      control      0.0"
            ]
          },
          "execution_count": 3,
          "metadata": {},
          "output_type": "execute_result"
        }
      ],
      "source": [
        "data = pd.read_excel('/Users/alex7/Desktop/Lesson 3/Alex70_first/A_B tests/AB_Test_Results.xlsx')\n",
        "\n",
        "data.head(10)"
      ]
    },
    {
      "attachments": {},
      "cell_type": "markdown",
      "metadata": {},
      "source": [
        "Анализируем типы данных, отражаемой информации."
      ]
    },
    {
      "cell_type": "code",
      "execution_count": 4,
      "metadata": {
        "colab": {
          "base_uri": "https://localhost:8080/"
        },
        "id": "I8xrSR3sMdfW",
        "outputId": "1ecc8bfb-e8ae-4d55-881b-f84ac7090b77"
      },
      "outputs": [
        {
          "name": "stdout",
          "output_type": "stream",
          "text": [
            "<class 'pandas.core.frame.DataFrame'>\n",
            "RangeIndex: 10000 entries, 0 to 9999\n",
            "Data columns (total 3 columns):\n",
            " #   Column        Non-Null Count  Dtype  \n",
            "---  ------        --------------  -----  \n",
            " 0   USER_ID       10000 non-null  int64  \n",
            " 1   VARIANT_NAME  10000 non-null  object \n",
            " 2   REVENUE       10000 non-null  float64\n",
            "dtypes: float64(1), int64(1), object(1)\n",
            "memory usage: 234.5+ KB\n"
          ]
        }
      ],
      "source": [
        "data.info()"
      ]
    },
    {
      "attachments": {},
      "cell_type": "markdown",
      "metadata": {},
      "source": [
        "Количество строк и столбцов."
      ]
    },
    {
      "cell_type": "code",
      "execution_count": 7,
      "metadata": {
        "colab": {
          "base_uri": "https://localhost:8080/"
        },
        "id": "l5-MmmPWp5XO",
        "outputId": "a5ded4d5-b4d2-42c2-a5ee-cd81998a87da"
      },
      "outputs": [
        {
          "data": {
            "text/plain": [
              "(10000, 3)"
            ]
          },
          "execution_count": 7,
          "metadata": {},
          "output_type": "execute_result"
        }
      ],
      "source": [
        "data.shape"
      ]
    },
    {
      "attachments": {},
      "cell_type": "markdown",
      "metadata": {},
      "source": [
        "Основные характеристики отображаемой по столбцам информации."
      ]
    },
    {
      "cell_type": "code",
      "execution_count": 5,
      "metadata": {
        "colab": {
          "base_uri": "https://localhost:8080/",
          "height": 300
        },
        "id": "_zTWERpHMdiS",
        "outputId": "1fbe40c6-9e6b-4066-a2ff-84891ae0b469"
      },
      "outputs": [
        {
          "data": {
            "text/html": [
              "<div>\n",
              "<style scoped>\n",
              "    .dataframe tbody tr th:only-of-type {\n",
              "        vertical-align: middle;\n",
              "    }\n",
              "\n",
              "    .dataframe tbody tr th {\n",
              "        vertical-align: top;\n",
              "    }\n",
              "\n",
              "    .dataframe thead th {\n",
              "        text-align: right;\n",
              "    }\n",
              "</style>\n",
              "<table border=\"1\" class=\"dataframe\">\n",
              "  <thead>\n",
              "    <tr style=\"text-align: right;\">\n",
              "      <th></th>\n",
              "      <th>USER_ID</th>\n",
              "      <th>REVENUE</th>\n",
              "    </tr>\n",
              "  </thead>\n",
              "  <tbody>\n",
              "    <tr>\n",
              "      <th>count</th>\n",
              "      <td>10000.000000</td>\n",
              "      <td>10000.000000</td>\n",
              "    </tr>\n",
              "    <tr>\n",
              "      <th>mean</th>\n",
              "      <td>4981.080200</td>\n",
              "      <td>0.099447</td>\n",
              "    </tr>\n",
              "    <tr>\n",
              "      <th>std</th>\n",
              "      <td>2890.590115</td>\n",
              "      <td>2.318529</td>\n",
              "    </tr>\n",
              "    <tr>\n",
              "      <th>min</th>\n",
              "      <td>2.000000</td>\n",
              "      <td>0.000000</td>\n",
              "    </tr>\n",
              "    <tr>\n",
              "      <th>25%</th>\n",
              "      <td>2468.750000</td>\n",
              "      <td>0.000000</td>\n",
              "    </tr>\n",
              "    <tr>\n",
              "      <th>50%</th>\n",
              "      <td>4962.000000</td>\n",
              "      <td>0.000000</td>\n",
              "    </tr>\n",
              "    <tr>\n",
              "      <th>75%</th>\n",
              "      <td>7511.500000</td>\n",
              "      <td>0.000000</td>\n",
              "    </tr>\n",
              "    <tr>\n",
              "      <th>max</th>\n",
              "      <td>10000.000000</td>\n",
              "      <td>196.010000</td>\n",
              "    </tr>\n",
              "  </tbody>\n",
              "</table>\n",
              "</div>"
            ],
            "text/plain": [
              "            USER_ID       REVENUE\n",
              "count  10000.000000  10000.000000\n",
              "mean    4981.080200      0.099447\n",
              "std     2890.590115      2.318529\n",
              "min        2.000000      0.000000\n",
              "25%     2468.750000      0.000000\n",
              "50%     4962.000000      0.000000\n",
              "75%     7511.500000      0.000000\n",
              "max    10000.000000    196.010000"
            ]
          },
          "execution_count": 5,
          "metadata": {},
          "output_type": "execute_result"
        }
      ],
      "source": [
        "data.describe()"
      ]
    },
    {
      "attachments": {},
      "cell_type": "markdown",
      "metadata": {},
      "source": [
        "Наличие пустых значений."
      ]
    },
    {
      "cell_type": "code",
      "execution_count": 6,
      "metadata": {
        "colab": {
          "base_uri": "https://localhost:8080/"
        },
        "id": "uGaR4U0hMd2u",
        "outputId": "f80c68e8-fa13-4aec-d4e5-8826448fa44d"
      },
      "outputs": [
        {
          "data": {
            "text/plain": [
              "USER_ID         0\n",
              "VARIANT_NAME    0\n",
              "REVENUE         0\n",
              "dtype: int64"
            ]
          },
          "execution_count": 6,
          "metadata": {},
          "output_type": "execute_result"
        }
      ],
      "source": [
        "data.isna().sum()"
      ]
    },
    {
      "attachments": {},
      "cell_type": "markdown",
      "metadata": {},
      "source": [
        "Количество пользователей в выборках."
      ]
    },
    {
      "cell_type": "code",
      "execution_count": 7,
      "metadata": {
        "colab": {
          "base_uri": "https://localhost:8080/"
        },
        "id": "7FeOO7zfqKlo",
        "outputId": "8b35e1e9-b611-4e37-f0ab-47bc8ad6cd3b"
      },
      "outputs": [
        {
          "data": {
            "text/plain": [
              "VARIANT_NAME\n",
              "variant    5016\n",
              "control    4984\n",
              "Name: count, dtype: int64"
            ]
          },
          "execution_count": 7,
          "metadata": {},
          "output_type": "execute_result"
        }
      ],
      "source": [
        "data.VARIANT_NAME.value_counts()"
      ]
    },
    {
      "attachments": {},
      "cell_type": "markdown",
      "metadata": {},
      "source": [
        "Общее количество пользователей, оформивших покупку."
      ]
    },
    {
      "cell_type": "code",
      "execution_count": 8,
      "metadata": {
        "colab": {
          "base_uri": "https://localhost:8080/",
          "height": 423
        },
        "id": "RNc3LMwPvDOx",
        "outputId": "7b05e491-43ee-4f0c-ae10-a9e97e992d85"
      },
      "outputs": [
        {
          "data": {
            "text/html": [
              "<div>\n",
              "<style scoped>\n",
              "    .dataframe tbody tr th:only-of-type {\n",
              "        vertical-align: middle;\n",
              "    }\n",
              "\n",
              "    .dataframe tbody tr th {\n",
              "        vertical-align: top;\n",
              "    }\n",
              "\n",
              "    .dataframe thead th {\n",
              "        text-align: right;\n",
              "    }\n",
              "</style>\n",
              "<table border=\"1\" class=\"dataframe\">\n",
              "  <thead>\n",
              "    <tr style=\"text-align: right;\">\n",
              "      <th></th>\n",
              "      <th>USER_ID</th>\n",
              "      <th>VARIANT_NAME</th>\n",
              "      <th>REVENUE</th>\n",
              "    </tr>\n",
              "  </thead>\n",
              "  <tbody>\n",
              "    <tr>\n",
              "      <th>13</th>\n",
              "      <td>2529</td>\n",
              "      <td>variant</td>\n",
              "      <td>2.15</td>\n",
              "    </tr>\n",
              "    <tr>\n",
              "      <th>49</th>\n",
              "      <td>6429</td>\n",
              "      <td>control</td>\n",
              "      <td>3.25</td>\n",
              "    </tr>\n",
              "    <tr>\n",
              "      <th>139</th>\n",
              "      <td>3331</td>\n",
              "      <td>variant</td>\n",
              "      <td>4.27</td>\n",
              "    </tr>\n",
              "    <tr>\n",
              "      <th>149</th>\n",
              "      <td>8110</td>\n",
              "      <td>variant</td>\n",
              "      <td>1.75</td>\n",
              "    </tr>\n",
              "    <tr>\n",
              "      <th>152</th>\n",
              "      <td>8607</td>\n",
              "      <td>control</td>\n",
              "      <td>2.99</td>\n",
              "    </tr>\n",
              "    <tr>\n",
              "      <th>...</th>\n",
              "      <td>...</td>\n",
              "      <td>...</td>\n",
              "      <td>...</td>\n",
              "    </tr>\n",
              "    <tr>\n",
              "      <th>9651</th>\n",
              "      <td>9928</td>\n",
              "      <td>variant</td>\n",
              "      <td>1.25</td>\n",
              "    </tr>\n",
              "    <tr>\n",
              "      <th>9711</th>\n",
              "      <td>6468</td>\n",
              "      <td>control</td>\n",
              "      <td>2.93</td>\n",
              "    </tr>\n",
              "    <tr>\n",
              "      <th>9724</th>\n",
              "      <td>5205</td>\n",
              "      <td>control</td>\n",
              "      <td>14.17</td>\n",
              "    </tr>\n",
              "    <tr>\n",
              "      <th>9725</th>\n",
              "      <td>702</td>\n",
              "      <td>variant</td>\n",
              "      <td>2.92</td>\n",
              "    </tr>\n",
              "    <tr>\n",
              "      <th>9977</th>\n",
              "      <td>4678</td>\n",
              "      <td>variant</td>\n",
              "      <td>1.01</td>\n",
              "    </tr>\n",
              "  </tbody>\n",
              "</table>\n",
              "<p>152 rows × 3 columns</p>\n",
              "</div>"
            ],
            "text/plain": [
              "      USER_ID VARIANT_NAME  REVENUE\n",
              "13       2529      variant     2.15\n",
              "49       6429      control     3.25\n",
              "139      3331      variant     4.27\n",
              "149      8110      variant     1.75\n",
              "152      8607      control     2.99\n",
              "...       ...          ...      ...\n",
              "9651     9928      variant     1.25\n",
              "9711     6468      control     2.93\n",
              "9724     5205      control    14.17\n",
              "9725      702      variant     2.92\n",
              "9977     4678      variant     1.01\n",
              "\n",
              "[152 rows x 3 columns]"
            ]
          },
          "execution_count": 8,
          "metadata": {},
          "output_type": "execute_result"
        }
      ],
      "source": [
        "data[data['REVENUE']>0]"
      ]
    },
    {
      "attachments": {},
      "cell_type": "markdown",
      "metadata": {
        "id": "QKQUi9a3w-bO"
      },
      "source": [
        "Посмотрим на группы отдельно"
      ]
    },
    {
      "cell_type": "code",
      "execution_count": 9,
      "metadata": {
        "colab": {
          "base_uri": "https://localhost:8080/",
          "height": 300
        },
        "id": "XXmqrLLGvM2Q",
        "outputId": "cd0de723-185e-48be-80f6-8576ce90ea16"
      },
      "outputs": [
        {
          "data": {
            "text/html": [
              "<div>\n",
              "<style scoped>\n",
              "    .dataframe tbody tr th:only-of-type {\n",
              "        vertical-align: middle;\n",
              "    }\n",
              "\n",
              "    .dataframe tbody tr th {\n",
              "        vertical-align: top;\n",
              "    }\n",
              "\n",
              "    .dataframe thead th {\n",
              "        text-align: right;\n",
              "    }\n",
              "</style>\n",
              "<table border=\"1\" class=\"dataframe\">\n",
              "  <thead>\n",
              "    <tr style=\"text-align: right;\">\n",
              "      <th></th>\n",
              "      <th>USER_ID</th>\n",
              "      <th>REVENUE</th>\n",
              "    </tr>\n",
              "  </thead>\n",
              "  <tbody>\n",
              "    <tr>\n",
              "      <th>count</th>\n",
              "      <td>5016.000000</td>\n",
              "      <td>5016.000000</td>\n",
              "    </tr>\n",
              "    <tr>\n",
              "      <th>mean</th>\n",
              "      <td>4972.776914</td>\n",
              "      <td>0.070070</td>\n",
              "    </tr>\n",
              "    <tr>\n",
              "      <th>std</th>\n",
              "      <td>2876.320625</td>\n",
              "      <td>1.314802</td>\n",
              "    </tr>\n",
              "    <tr>\n",
              "      <th>min</th>\n",
              "      <td>3.000000</td>\n",
              "      <td>0.000000</td>\n",
              "    </tr>\n",
              "    <tr>\n",
              "      <th>25%</th>\n",
              "      <td>2476.500000</td>\n",
              "      <td>0.000000</td>\n",
              "    </tr>\n",
              "    <tr>\n",
              "      <th>50%</th>\n",
              "      <td>4958.500000</td>\n",
              "      <td>0.000000</td>\n",
              "    </tr>\n",
              "    <tr>\n",
              "      <th>75%</th>\n",
              "      <td>7415.250000</td>\n",
              "      <td>0.000000</td>\n",
              "    </tr>\n",
              "    <tr>\n",
              "      <th>max</th>\n",
              "      <td>10000.000000</td>\n",
              "      <td>58.630000</td>\n",
              "    </tr>\n",
              "  </tbody>\n",
              "</table>\n",
              "</div>"
            ],
            "text/plain": [
              "            USER_ID      REVENUE\n",
              "count   5016.000000  5016.000000\n",
              "mean    4972.776914     0.070070\n",
              "std     2876.320625     1.314802\n",
              "min        3.000000     0.000000\n",
              "25%     2476.500000     0.000000\n",
              "50%     4958.500000     0.000000\n",
              "75%     7415.250000     0.000000\n",
              "max    10000.000000    58.630000"
            ]
          },
          "execution_count": 9,
          "metadata": {},
          "output_type": "execute_result"
        }
      ],
      "source": [
        "data[data['VARIANT_NAME']=='variant'].describe()"
      ]
    },
    {
      "cell_type": "code",
      "execution_count": 10,
      "metadata": {
        "colab": {
          "base_uri": "https://localhost:8080/",
          "height": 300
        },
        "id": "jxupRRjSvM5M",
        "outputId": "4436be65-409b-4de6-9221-bfb11a57695d"
      },
      "outputs": [
        {
          "data": {
            "text/html": [
              "<div>\n",
              "<style scoped>\n",
              "    .dataframe tbody tr th:only-of-type {\n",
              "        vertical-align: middle;\n",
              "    }\n",
              "\n",
              "    .dataframe tbody tr th {\n",
              "        vertical-align: top;\n",
              "    }\n",
              "\n",
              "    .dataframe thead th {\n",
              "        text-align: right;\n",
              "    }\n",
              "</style>\n",
              "<table border=\"1\" class=\"dataframe\">\n",
              "  <thead>\n",
              "    <tr style=\"text-align: right;\">\n",
              "      <th></th>\n",
              "      <th>USER_ID</th>\n",
              "      <th>REVENUE</th>\n",
              "    </tr>\n",
              "  </thead>\n",
              "  <tbody>\n",
              "    <tr>\n",
              "      <th>count</th>\n",
              "      <td>4984.000000</td>\n",
              "      <td>4984.000000</td>\n",
              "    </tr>\n",
              "    <tr>\n",
              "      <th>mean</th>\n",
              "      <td>4989.436798</td>\n",
              "      <td>0.129013</td>\n",
              "    </tr>\n",
              "    <tr>\n",
              "      <th>std</th>\n",
              "      <td>2905.145109</td>\n",
              "      <td>3.007524</td>\n",
              "    </tr>\n",
              "    <tr>\n",
              "      <th>min</th>\n",
              "      <td>2.000000</td>\n",
              "      <td>0.000000</td>\n",
              "    </tr>\n",
              "    <tr>\n",
              "      <th>25%</th>\n",
              "      <td>2466.000000</td>\n",
              "      <td>0.000000</td>\n",
              "    </tr>\n",
              "    <tr>\n",
              "      <th>50%</th>\n",
              "      <td>4964.500000</td>\n",
              "      <td>0.000000</td>\n",
              "    </tr>\n",
              "    <tr>\n",
              "      <th>75%</th>\n",
              "      <td>7576.250000</td>\n",
              "      <td>0.000000</td>\n",
              "    </tr>\n",
              "    <tr>\n",
              "      <th>max</th>\n",
              "      <td>10000.000000</td>\n",
              "      <td>196.010000</td>\n",
              "    </tr>\n",
              "  </tbody>\n",
              "</table>\n",
              "</div>"
            ],
            "text/plain": [
              "            USER_ID      REVENUE\n",
              "count   4984.000000  4984.000000\n",
              "mean    4989.436798     0.129013\n",
              "std     2905.145109     3.007524\n",
              "min        2.000000     0.000000\n",
              "25%     2466.000000     0.000000\n",
              "50%     4964.500000     0.000000\n",
              "75%     7576.250000     0.000000\n",
              "max    10000.000000   196.010000"
            ]
          },
          "execution_count": 10,
          "metadata": {},
          "output_type": "execute_result"
        }
      ],
      "source": [
        "data[data['VARIANT_NAME']=='control'].describe()"
      ]
    },
    {
      "attachments": {},
      "cell_type": "markdown",
      "metadata": {
        "id": "eGwqKXIuxHRD"
      },
      "source": [
        "Максимальный чек в второй группе значительно больше, чем в первой."
      ]
    },
    {
      "attachments": {},
      "cell_type": "markdown",
      "metadata": {
        "id": "sTDYCs3OxRn8"
      },
      "source": [
        "## Проверка на нормальность распределения и применение статистических критериев"
      ]
    },
    {
      "attachments": {},
      "cell_type": "markdown",
      "metadata": {
        "id": "_EruvT7Mrw0U"
      },
      "source": [
        "### Проверка Метрики всех пользователей"
      ]
    },
    {
      "cell_type": "code",
      "execution_count": 11,
      "metadata": {
        "colab": {
          "base_uri": "https://localhost:8080/",
          "height": 830
        },
        "id": "_9WymqyAvTb2",
        "outputId": "7b1a445d-bfa2-47f7-944a-f7e7337a9aaa"
      },
      "outputs": [
        {
          "data": {
            "image/png": "[encoded data removed]",
            "text/plain": [
              "<Figure size 1000x1000 with 1 Axes>"
            ]
          },
          "metadata": {},
          "output_type": "display_data"
        }
      ],
      "source": [
        "plt.figure(figsize=(10, 10))\n",
        "control_visit_all = data['REVENUE'][data['VARIANT_NAME'] == 'control']\n",
        "test_visit_all =data['REVENUE'][data['VARIANT_NAME'] == 'variant']\n",
        "\n",
        "\n",
        "plt.hist(control_visit_all, color='r', bins=50)\n",
        "plt.hist(test_visit_all,  bins=50)\n",
        "\n",
        "\n",
        "plt.show()"
      ]
    },
    {
      "cell_type": "code",
      "execution_count": 12,
      "metadata": {
        "colab": {
          "base_uri": "https://localhost:8080/"
        },
        "id": "HWjxRcEcvThm",
        "outputId": "67b4de8f-bb8e-4428-9337-ee75132faf23"
      },
      "outputs": [
        {
          "data": {
            "text/plain": [
              "Ttest_indResult(statistic=1.268403803110966, pvalue=0.20469713432410774)"
            ]
          },
          "execution_count": 12,
          "metadata": {},
          "output_type": "execute_result"
        }
      ],
      "source": [
        "stats.ttest_ind(control_visit_all, test_visit_all, equal_var = False)"
      ]
    },
    {
      "attachments": {},
      "cell_type": "markdown",
      "metadata": {
        "id": "Xx8hTteTriJL"
      },
      "source": [
        "### Метрика пользователей, оформивших покупку."
      ]
    },
    {
      "cell_type": "code",
      "execution_count": 17,
      "metadata": {
        "colab": {
          "base_uri": "https://localhost:8080/",
          "height": 830
        },
        "id": "umt-3EnZvTkh",
        "outputId": "de785f34-e910-47eb-fd35-0a266413f9ce"
      },
      "outputs": [
        {
          "data": {
            "image/png": "[encoded data removed]",
            "text/plain": [
              "<Figure size 1000x1000 with 1 Axes>"
            ]
          },
          "metadata": {},
          "output_type": "display_data"
        }
      ],
      "source": [
        "plt.figure(figsize=(10, 10))\n",
        "control_visit = data['REVENUE'][(data['VARIANT_NAME'] == 'control')&(data['REVENUE'] > 0)]\n",
        "test_visit =data['REVENUE'][(data['VARIANT_NAME'] == 'variant')&(data['REVENUE'] > 0)]\n",
        "plt.hist(test_visit,  bins=20)\n",
        "plt.hist(control_visit, color='r', bins=20)\n",
        "\n",
        "plt.show()"
      ]
    },
    {
      "cell_type": "code",
      "execution_count": 18,
      "metadata": {
        "colab": {
          "base_uri": "https://localhost:8080/"
        },
        "id": "GSlKHopSWH2E",
        "outputId": "8cb5602f-8862-4ef6-deae-e54a85fda7ed"
      },
      "outputs": [
        {
          "data": {
            "text/plain": [
              "Ttest_indResult(statistic=1.1379124979933528, pvalue=0.25760685398932337)"
            ]
          },
          "execution_count": 18,
          "metadata": {},
          "output_type": "execute_result"
        }
      ],
      "source": [
        "stats.ttest_ind(control_visit, test_visit, equal_var = False)"
      ]
    },
    {
      "attachments": {},
      "cell_type": "markdown",
      "metadata": {},
      "source": [
        "Результаты тестов показывают, что обе метрики имеют нормальное распределение, статистически значимых отличий в выборках не обнаружено (p_value > 5%)."
      ]
    },
    {
      "attachments": {},
      "cell_type": "markdown",
      "metadata": {},
      "source": [
        "## Количественные показатели значений выручки."
      ]
    },
    {
      "cell_type": "code",
      "execution_count": 19,
      "metadata": {
        "colab": {
          "base_uri": "https://localhost:8080/"
        },
        "id": "MQQNaIlHiz3c",
        "outputId": "615be625-668f-4968-95a7-4840ff41bcbd"
      },
      "outputs": [
        {
          "data": {
            "text/plain": [
              "REVENUE\n",
              "0.00     9848\n",
              "1.25       10\n",
              "1.01        6\n",
              "3.25        6\n",
              "0.04        5\n",
              "         ... \n",
              "2.19        1\n",
              "2.14        1\n",
              "17.08       1\n",
              "2.00        1\n",
              "2.92        1\n",
              "Name: count, Length: 101, dtype: int64"
            ]
          },
          "execution_count": 19,
          "metadata": {},
          "output_type": "execute_result"
        }
      ],
      "source": [
        "data['REVENUE'].value_counts()"
      ]
    },
    {
      "cell_type": "code",
      "execution_count": 20,
      "metadata": {
        "id": "KiTwAx81x21y"
      },
      "outputs": [],
      "source": [
        "k1 = data[data['VARIANT_NAME']=='control']['REVENUE'].sum()\n",
        "k2 = data[data['VARIANT_NAME']=='variant']['REVENUE'].sum()"
      ]
    },
    {
      "cell_type": "code",
      "execution_count": 21,
      "metadata": {
        "colab": {
          "base_uri": "https://localhost:8080/"
        },
        "id": "5UKJlWHXWf3_",
        "outputId": "0658b9b8-d788-46b2-8d60-a42d8a41a56f"
      },
      "outputs": [
        {
          "data": {
            "text/plain": [
              "(643.0, 351.47)"
            ]
          },
          "execution_count": 21,
          "metadata": {},
          "output_type": "execute_result"
        }
      ],
      "source": [
        "k1, k2"
      ]
    },
    {
      "cell_type": "code",
      "execution_count": 22,
      "metadata": {
        "id": "mhE9_jE1x4fe"
      },
      "outputs": [],
      "source": [
        "n1 = data[data['VARIANT_NAME']=='control'].shape[0]\n",
        "n2 = data[data['VARIANT_NAME']=='variant'].shape[0]"
      ]
    },
    {
      "cell_type": "code",
      "execution_count": 23,
      "metadata": {
        "colab": {
          "base_uri": "https://localhost:8080/"
        },
        "id": "_idKy0UkXKHU",
        "outputId": "ec464404-b6f9-4f29-96a8-0c6de23ce3a2"
      },
      "outputs": [
        {
          "data": {
            "text/plain": [
              "(4984, 5016)"
            ]
          },
          "execution_count": 23,
          "metadata": {},
          "output_type": "execute_result"
        }
      ],
      "source": [
        "n1, n2"
      ]
    },
    {
      "cell_type": "code",
      "execution_count": 24,
      "metadata": {
        "colab": {
          "base_uri": "https://localhost:8080/"
        },
        "id": "cZIy0FaWx522",
        "outputId": "6409161a-8a98-47ab-8835-0dad6059f8f8"
      },
      "outputs": [
        {
          "name": "stdout",
          "output_type": "stream",
          "text": [
            "Results are  z_score =9.848, pvalue = 0.000\n"
          ]
        }
      ],
      "source": [
        "from statsmodels.stats import proportion\n",
        "\n",
        "z_score, z_pvalue = proportion.proportions_ztest(np.array([k1, k2]), \n",
        "                                                   np.array([n1, n2]))\n",
        "print('Results are ','z_score =%.3f, pvalue = %.3f'%(z_score, z_pvalue))"
      ]
    },
    {
      "cell_type": "code",
      "execution_count": 25,
      "metadata": {
        "colab": {
          "base_uri": "https://localhost:8080/"
        },
        "id": "yWjJTgwyx8CK",
        "outputId": "97df719e-918b-4f99-ba34-40d0b19536b5"
      },
      "outputs": [
        {
          "name": "stdout",
          "output_type": "stream",
          "text": [
            "We may reject the null hypothesis!\n"
          ]
        }
      ],
      "source": [
        "if abs(z_pvalue) < 0.05:\n",
        "    print(\"We may reject the null hypothesis!\")\n",
        "else:\n",
        "    print(\"We have failed to reject the null hypothesis\")"
      ]
    },
    {
      "attachments": {},
      "cell_type": "markdown",
      "metadata": {},
      "source": [
        "Результаты теста показывают наличие статистически значимых различий в пропорциональности выборок."
      ]
    },
    {
      "attachments": {},
      "cell_type": "markdown",
      "metadata": {
        "id": "wdCtEp-Bx_v-"
      },
      "source": [
        "## Непараметрический Хи-квадрат"
      ]
    },
    {
      "cell_type": "code",
      "execution_count": 28,
      "metadata": {
        "colab": {
          "base_uri": "https://localhost:8080/"
        },
        "id": "cDLk6dKcyCLr",
        "outputId": "bdb98267-9471-414d-dffc-ac9471a04056"
      },
      "outputs": [
        {
          "name": "stdout",
          "output_type": "stream",
          "text": [
            "Results are  chisq =96.984, pvalue = 0.000\n"
          ]
        }
      ],
      "source": [
        "chisq, pvalue, table = proportion.proportions_chisquare(np.array([k1, k2]), \n",
        "                                                   np.array([n1, n2]))\n",
        "\n",
        "print('Results are ','chisq =%.3f, pvalue = %.3f'%(chisq, pvalue))"
      ]
    },
    {
      "cell_type": "code",
      "execution_count": 29,
      "metadata": {
        "colab": {
          "base_uri": "https://localhost:8080/"
        },
        "id": "e1Q2VtagyECk",
        "outputId": "4cda19a2-ceea-410a-e82a-3b398b7432b8"
      },
      "outputs": [
        {
          "name": "stdout",
          "output_type": "stream",
          "text": [
            "We may reject the null hypothesis!\n"
          ]
        }
      ],
      "source": [
        "if abs(pvalue) < 0.05:\n",
        "    print(\"We may reject the null hypothesis!\")\n",
        "else:\n",
        "    print(\"We have failed to reject the null hypothesis\")"
      ]
    },
    {
      "attachments": {},
      "cell_type": "markdown",
      "metadata": {},
      "source": [
        "Результаты теста показывают статистическую значимость качественных различий двух или нескольких относительных показателей. P-value существенно меньше 5%."
      ]
    },
    {
      "attachments": {},
      "cell_type": "markdown",
      "metadata": {
        "id": "N1YZ76cot3qt"
      },
      "source": [
        "## Тестирование метрик arpu и arppu."
      ]
    },
    {
      "attachments": {},
      "cell_type": "markdown",
      "metadata": {
        "id": "Ny3D_-1DyHWo"
      },
      "source": [
        "\n",
        "### Непараметрический критерий  Манн-Уитни"
      ]
    },
    {
      "cell_type": "code",
      "execution_count": 30,
      "metadata": {
        "colab": {
          "base_uri": "https://localhost:8080/",
          "height": 143
        },
        "id": "5AmhiCeXyGiC",
        "outputId": "1d9cf907-577d-4608-f858-3dcca38b3e55"
      },
      "outputs": [
        {
          "data": {
            "text/html": [
              "<div>\n",
              "<style scoped>\n",
              "    .dataframe tbody tr th:only-of-type {\n",
              "        vertical-align: middle;\n",
              "    }\n",
              "\n",
              "    .dataframe tbody tr th {\n",
              "        vertical-align: top;\n",
              "    }\n",
              "\n",
              "    .dataframe thead th {\n",
              "        text-align: right;\n",
              "    }\n",
              "</style>\n",
              "<table border=\"1\" class=\"dataframe\">\n",
              "  <thead>\n",
              "    <tr style=\"text-align: right;\">\n",
              "      <th></th>\n",
              "      <th>count</th>\n",
              "      <th>mean</th>\n",
              "      <th>std</th>\n",
              "      <th>min</th>\n",
              "      <th>25%</th>\n",
              "      <th>50%</th>\n",
              "      <th>75%</th>\n",
              "      <th>max</th>\n",
              "    </tr>\n",
              "    <tr>\n",
              "      <th>VARIANT_NAME</th>\n",
              "      <th></th>\n",
              "      <th></th>\n",
              "      <th></th>\n",
              "      <th></th>\n",
              "      <th></th>\n",
              "      <th></th>\n",
              "      <th></th>\n",
              "      <th></th>\n",
              "    </tr>\n",
              "  </thead>\n",
              "  <tbody>\n",
              "    <tr>\n",
              "      <th>control</th>\n",
              "      <td>4984.0</td>\n",
              "      <td>0.129013</td>\n",
              "      <td>3.007524</td>\n",
              "      <td>0.0</td>\n",
              "      <td>0.0</td>\n",
              "      <td>0.0</td>\n",
              "      <td>0.0</td>\n",
              "      <td>196.01</td>\n",
              "    </tr>\n",
              "    <tr>\n",
              "      <th>variant</th>\n",
              "      <td>5016.0</td>\n",
              "      <td>0.070070</td>\n",
              "      <td>1.314802</td>\n",
              "      <td>0.0</td>\n",
              "      <td>0.0</td>\n",
              "      <td>0.0</td>\n",
              "      <td>0.0</td>\n",
              "      <td>58.63</td>\n",
              "    </tr>\n",
              "  </tbody>\n",
              "</table>\n",
              "</div>"
            ],
            "text/plain": [
              "               count      mean       std  min  25%  50%  75%     max\n",
              "VARIANT_NAME                                                        \n",
              "control       4984.0  0.129013  3.007524  0.0  0.0  0.0  0.0  196.01\n",
              "variant       5016.0  0.070070  1.314802  0.0  0.0  0.0  0.0   58.63"
            ]
          },
          "execution_count": 30,
          "metadata": {},
          "output_type": "execute_result"
        }
      ],
      "source": [
        "data.groupby('VARIANT_NAME')['REVENUE'].describe()"
      ]
    },
    {
      "cell_type": "code",
      "execution_count": 31,
      "metadata": {
        "colab": {
          "base_uri": "https://localhost:8080/"
        },
        "id": "llW-onHYyX05",
        "outputId": "5daff0d9-d2e8-4b4b-d511-022d931c652a"
      },
      "outputs": [
        {
          "data": {
            "text/plain": [
              "MannwhitneyuResult(statistic=3356.0, pvalue=0.07924299810603061)"
            ]
          },
          "execution_count": 31,
          "metadata": {},
          "output_type": "execute_result"
        }
      ],
      "source": [
        "mw_stats = stats.mannwhitneyu(x=data[(data['VARIANT_NAME'] == 'control')&(data['REVENUE'] > 0)]['REVENUE'].values,\n",
        "                                                  y=data[(data['VARIANT_NAME'] == 'variant')&(data['REVENUE'] > 0)]['REVENUE'].values)\n",
        "mw_stats\n",
        "#ARPPU"
      ]
    },
    {
      "cell_type": "code",
      "execution_count": 32,
      "metadata": {
        "colab": {
          "base_uri": "https://localhost:8080/"
        },
        "id": "KUnFLlDcX-6p",
        "outputId": "e10b6ead-f5d1-464c-8032-e19e81d352e8"
      },
      "outputs": [
        {
          "data": {
            "text/plain": [
              "MannwhitneyuResult(statistic=12521564.0, pvalue=0.47825247965294926)"
            ]
          },
          "execution_count": 32,
          "metadata": {},
          "output_type": "execute_result"
        }
      ],
      "source": [
        "mw_stats = stats.mannwhitneyu(x=data[(data['VARIANT_NAME'] == 'control')]['REVENUE'].values,\n",
        "                                                  y=data[(data['VARIANT_NAME'] == 'variant')]['REVENUE'].values)\n",
        "mw_stats\n",
        "#ARPU"
      ]
    },
    {
      "attachments": {},
      "cell_type": "markdown",
      "metadata": {},
      "source": [
        "Результаты тестов показывают, что и в случае тестирования метрики arpu и arppu с помощью непараметрического критерия Манна-Уитни, статистически значимых отличий в выборках не обнаружено (p_value > 5%)."
      ]
    },
    {
      "attachments": {},
      "cell_type": "markdown",
      "metadata": {
        "id": "SmNnIqnAXXfQ"
      },
      "source": [
        "## Применяем метод Бутстрап для праверки влияния качества выборок.\n",
        "\n",
        "Гипотезы:  \n",
        "  \n",
        "H0: Набор статистически значимо не влияет (p-value > 0.05)  \n",
        "H1: Набор статистически значимо влияет (p-value < 0.05)  \n"
      ]
    },
    {
      "cell_type": "code",
      "execution_count": 36,
      "metadata": {
        "id": "Ogx6ySO90EW_"
      },
      "outputs": [],
      "source": [
        "import numpy as np\n",
        "import pandas as pd\n",
        "from scipy.stats import *\n",
        "import matplotlib.pyplot as plt\n",
        "from tqdm.auto import tqdm #для красивой полоски\n",
        "\n",
        "plt.style.use('ggplot')\n",
        "\n",
        "def get_bootstrap(\n",
        "    data_column_1, # числовые значения первой выборки\n",
        "    data_column_2, # числовые значения второй выборки\n",
        "    boot_it = 500, # количество бутстрэп-подвыборок\n",
        "    statistic = np.mean, # интересующая нас статистика\n",
        "    bootstrap_conf_level = 0.95 # уровень значимости\n",
        "):\n",
        "    boot_data = []\n",
        "    for i in tqdm(range(boot_it)): # извлекаем подвыборки\n",
        "        samples_1 = data_column_1.sample(\n",
        "            len(data_column_1), \n",
        "            replace = True # параметр возвращения\n",
        "        ).values\n",
        "        \n",
        "        samples_2 = data_column_2.sample(\n",
        "            len(data_column_2), \n",
        "            replace = True\n",
        "        ).values\n",
        "        \n",
        "        boot_data.append(statistic(samples_1)-statistic(samples_2)) # mean() - применяем статистику\n",
        "        \n",
        "    pd_boot_data = pd.DataFrame(boot_data)\n",
        "        \n",
        "    left_quant = (1 - bootstrap_conf_level)/2\n",
        "    right_quant = 1 - (1 - bootstrap_conf_level) / 2\n",
        "    quants = pd_boot_data.quantile([left_quant, right_quant])\n",
        "        \n",
        "    p_1 = norm.cdf(\n",
        "        x = 0, \n",
        "        loc = np.mean(boot_data), \n",
        "        scale = np.std(boot_data)\n",
        "    )\n",
        "    p_2 = norm.cdf(\n",
        "        x = 0, \n",
        "        loc = -np.mean(boot_data), \n",
        "        scale = np.std(boot_data)\n",
        "    )\n",
        "    p_value = min(p_1, p_2) * 2\n",
        "        \n",
        "    # Визуализация\n",
        "    _, _, bars = plt.hist(pd_boot_data[0], bins = 50)\n",
        "    for bar in bars:\n",
        "        if bar.get_x() <= quants.iloc[0][0] or bar.get_x() >= quants.iloc[1][0]:\n",
        "            bar.set_facecolor('red')\n",
        "        else: \n",
        "            bar.set_facecolor('grey')\n",
        "            bar.set_edgecolor('black')\n",
        "    \n",
        "    plt.style.use('ggplot')\n",
        "    plt.vlines(quants,ymin=0,ymax=50,linestyle='--')\n",
        "    plt.xlabel('boot_data')\n",
        "    plt.ylabel('frequency')\n",
        "    plt.title(\"Histogram of boot_data\")\n",
        "    plt.show()\n",
        "       \n",
        "    return {\"p_value\": p_value}"
      ]
    },
    {
      "cell_type": "code",
      "execution_count": 37,
      "metadata": {
        "colab": {
          "base_uri": "https://localhost:8080/",
          "height": 526,
          "referenced_widgets": [
            "a2f79464c99f46cfbe94a38f90aa27fb",
            "614ef45208ea4ab0942eb837f695951b",
            "22d98af70c4e4cbf8263fc854a34b65d",
            "3cd69a46618d474f9b6159415be00fda",
            "30d76cad606b490b845c4f45f0f9d728",
            "495d13490eda462b8b0093814a858d71",
            "49a1ac6fce164ee1aa75ef7d42f4720a",
            "7cc9f5ec6d0b4b47b0811224100ed4b0",
            "13bbe127bb3644f7a8bae630d5f4557d",
            "0da02e857145404f91fb457637cc0c98",
            "07ab1411709f417995c19d151cba566a"
          ]
        },
        "id": "-PEYbt67uVPO",
        "outputId": "cbd70e25-a9c6-4761-f5c7-c48caefe3f93"
      },
      "outputs": [
        {
          "name": "stderr",
          "output_type": "stream",
          "text": [
            "  0%|          | 0/500 [00:00<?, ?it/s]"
          ]
        },
        {
          "name": "stderr",
          "output_type": "stream",
          "text": [
            "100%|██████████| 500/500 [00:00<00:00, 1382.25it/s]\n"
          ]
        },
        {
          "data": {
            "image/png": "[encoded data removed]",
            "text/plain": [
              "<Figure size 640x480 with 1 Axes>"
            ]
          },
          "metadata": {},
          "output_type": "display_data"
        },
        {
          "data": {
            "text/plain": [
              "{'p_value': 0.240719727710335}"
            ]
          },
          "execution_count": 37,
          "metadata": {},
          "output_type": "execute_result"
        }
      ],
      "source": [
        "get_bootstrap(data[(data['VARIANT_NAME'] == 'control')&(data['REVENUE'] > 0)]['REVENUE'], data[(data['VARIANT_NAME'] == 'variant')&(data['REVENUE'] > 0)]['REVENUE'])"
      ]
    },
    {
      "cell_type": "code",
      "execution_count": 38,
      "metadata": {
        "colab": {
          "base_uri": "https://localhost:8080/",
          "height": 526,
          "referenced_widgets": [
            "3712f35515f74feea45495d52d5bed16",
            "a40019fc932d425d9b963565e4babb22",
            "d4bccb486f4f48da826a00f6698aa047",
            "9585d335712a4a6fa858178e457106af",
            "c6110b08f5174cd89e64a906bafac8a9",
            "969aecea39d04e9bbfbd16ca3c185d06",
            "dcad222d5fd046d7b90f94cc396ef7f3",
            "80355af4ddb645b1bdfc76f668355ce4",
            "1f441b34f82c4a05af1c71df067fb8b5",
            "65c64175cc064fa382f76c7b7af8740a",
            "f6a01ab9130e4afca0734e3c62a8895b"
          ]
        },
        "id": "un1cH2epY-KH",
        "outputId": "bfa07e14-9586-4a96-c146-b001f72ff6e3"
      },
      "outputs": [
        {
          "name": "stderr",
          "output_type": "stream",
          "text": [
            "100%|██████████| 500/500 [00:00<00:00, 935.32it/s] \n"
          ]
        },
        {
          "data": {
            "image/png": "[encoded data removed]",
            "text/plain": [
              "<Figure size 640x480 with 1 Axes>"
            ]
          },
          "metadata": {},
          "output_type": "display_data"
        },
        {
          "data": {
            "text/plain": [
              "{'p_value': 0.1770847965759771}"
            ]
          },
          "execution_count": 38,
          "metadata": {},
          "output_type": "execute_result"
        }
      ],
      "source": [
        "get_bootstrap(data[(data['VARIANT_NAME'] == 'control')]['REVENUE'], data[(data['VARIANT_NAME'] == 'variant')]['REVENUE'])"
      ]
    },
    {
      "attachments": {},
      "cell_type": "markdown",
      "metadata": {
        "id": "agSrnJ2mZoGO"
      },
      "source": [
        "И в случае тестирования выборки для всех пользователей и пользователей, оформивших покупку статистически значимых отличий в качестве выборок не обнаружено (p_value > 5%)."
      ]
    }
  ],
  "metadata": {
    "colab": {
      "provenance": []
    },
    "kernelspec": {
      "display_name": "Python 3",
      "language": "python",
      "name": "python3"
    },
    "language_info": {
      "codemirror_mode": {
        "name": "ipython",
        "version": 3
      },
      "file_extension": ".py",
      "mimetype": "text/x-python",
      "name": "python",
      "nbconvert_exporter": "python",
      "pygments_lexer": "ipython3",
      "version": "3.10.11"
    },
    "widgets": {
      "application/vnd.jupyter.widget-state+json": {
        "07ab1411709f417995c19d151cba566a": {
          "model_module": "@jupyter-widgets/controls",
          "model_module_version": "1.5.0",
          "model_name": "DescriptionStyleModel",
          "state": {
            "_model_module": "@jupyter-widgets/controls",
            "_model_module_version": "1.5.0",
            "_model_name": "DescriptionStyleModel",
            "_view_count": null,
            "_view_module": "@jupyter-widgets/base",
            "_view_module_version": "1.2.0",
            "_view_name": "StyleView",
            "description_width": ""
          }
        },
        "0da02e857145404f91fb457637cc0c98": {
          "model_module": "@jupyter-widgets/base",
          "model_module_version": "1.2.0",
          "model_name": "LayoutModel",
          "state": {
            "_model_module": "@jupyter-widgets/base",
            "_model_module_version": "1.2.0",
            "_model_name": "LayoutModel",
            "_view_count": null,
            "_view_module": "@jupyter-widgets/base",
            "_view_module_version": "1.2.0",
            "_view_name": "LayoutView",
            "align_content": null,
            "align_items": null,
            "align_self": null,
            "border": null,
            "bottom": null,
            "display": null,
            "flex": null,
            "flex_flow": null,
            "grid_area": null,
            "grid_auto_columns": null,
            "grid_auto_flow": null,
            "grid_auto_rows": null,
            "grid_column": null,
            "grid_gap": null,
            "grid_row": null,
            "grid_template_areas": null,
            "grid_template_columns": null,
            "grid_template_rows": null,
            "height": null,
            "justify_content": null,
            "justify_items": null,
            "left": null,
            "margin": null,
            "max_height": null,
            "max_width": null,
            "min_height": null,
            "min_width": null,
            "object_fit": null,
            "object_position": null,
            "order": null,
            "overflow": null,
            "overflow_x": null,
            "overflow_y": null,
            "padding": null,
            "right": null,
            "top": null,
            "visibility": null,
            "width": null
          }
        },
        "13bbe127bb3644f7a8bae630d5f4557d": {
          "model_module": "@jupyter-widgets/controls",
          "model_module_version": "1.5.0",
          "model_name": "ProgressStyleModel",
          "state": {
            "_model_module": "@jupyter-widgets/controls",
            "_model_module_version": "1.5.0",
            "_model_name": "ProgressStyleModel",
            "_view_count": null,
            "_view_module": "@jupyter-widgets/base",
            "_view_module_version": "1.2.0",
            "_view_name": "StyleView",
            "bar_color": null,
            "description_width": ""
          }
        },
        "1f441b34f82c4a05af1c71df067fb8b5": {
          "model_module": "@jupyter-widgets/controls",
          "model_module_version": "1.5.0",
          "model_name": "ProgressStyleModel",
          "state": {
            "_model_module": "@jupyter-widgets/controls",
            "_model_module_version": "1.5.0",
            "_model_name": "ProgressStyleModel",
            "_view_count": null,
            "_view_module": "@jupyter-widgets/base",
            "_view_module_version": "1.2.0",
            "_view_name": "StyleView",
            "bar_color": null,
            "description_width": ""
          }
        },
        "22d98af70c4e4cbf8263fc854a34b65d": {
          "model_module": "@jupyter-widgets/controls",
          "model_module_version": "1.5.0",
          "model_name": "FloatProgressModel",
          "state": {
            "_dom_classes": [],
            "_model_module": "@jupyter-widgets/controls",
            "_model_module_version": "1.5.0",
            "_model_name": "FloatProgressModel",
            "_view_count": null,
            "_view_module": "@jupyter-widgets/controls",
            "_view_module_version": "1.5.0",
            "_view_name": "ProgressView",
            "bar_style": "success",
            "description": "",
            "description_tooltip": null,
            "layout": "IPY_MODEL_7cc9f5ec6d0b4b47b0811224100ed4b0",
            "max": 10000,
            "min": 0,
            "orientation": "horizontal",
            "style": "IPY_MODEL_13bbe127bb3644f7a8bae630d5f4557d",
            "value": 10000
          }
        },
        "30d76cad606b490b845c4f45f0f9d728": {
          "model_module": "@jupyter-widgets/base",
          "model_module_version": "1.2.0",
          "model_name": "LayoutModel",
          "state": {
            "_model_module": "@jupyter-widgets/base",
            "_model_module_version": "1.2.0",
            "_model_name": "LayoutModel",
            "_view_count": null,
            "_view_module": "@jupyter-widgets/base",
            "_view_module_version": "1.2.0",
            "_view_name": "LayoutView",
            "align_content": null,
            "align_items": null,
            "align_self": null,
            "border": null,
            "bottom": null,
            "display": null,
            "flex": null,
            "flex_flow": null,
            "grid_area": null,
            "grid_auto_columns": null,
            "grid_auto_flow": null,
            "grid_auto_rows": null,
            "grid_column": null,
            "grid_gap": null,
            "grid_row": null,
            "grid_template_areas": null,
            "grid_template_columns": null,
            "grid_template_rows": null,
            "height": null,
            "justify_content": null,
            "justify_items": null,
            "left": null,
            "margin": null,
            "max_height": null,
            "max_width": null,
            "min_height": null,
            "min_width": null,
            "object_fit": null,
            "object_position": null,
            "order": null,
            "overflow": null,
            "overflow_x": null,
            "overflow_y": null,
            "padding": null,
            "right": null,
            "top": null,
            "visibility": null,
            "width": null
          }
        },
        "3712f35515f74feea45495d52d5bed16": {
          "model_module": "@jupyter-widgets/controls",
          "model_module_version": "1.5.0",
          "model_name": "HBoxModel",
          "state": {
            "_dom_classes": [],
            "_model_module": "@jupyter-widgets/controls",
            "_model_module_version": "1.5.0",
            "_model_name": "HBoxModel",
            "_view_count": null,
            "_view_module": "@jupyter-widgets/controls",
            "_view_module_version": "1.5.0",
            "_view_name": "HBoxView",
            "box_style": "",
            "children": [
              "IPY_MODEL_a40019fc932d425d9b963565e4babb22",
              "IPY_MODEL_d4bccb486f4f48da826a00f6698aa047",
              "IPY_MODEL_9585d335712a4a6fa858178e457106af"
            ],
            "layout": "IPY_MODEL_c6110b08f5174cd89e64a906bafac8a9"
          }
        },
        "3cd69a46618d474f9b6159415be00fda": {
          "model_module": "@jupyter-widgets/controls",
          "model_module_version": "1.5.0",
          "model_name": "HTMLModel",
          "state": {
            "_dom_classes": [],
            "_model_module": "@jupyter-widgets/controls",
            "_model_module_version": "1.5.0",
            "_model_name": "HTMLModel",
            "_view_count": null,
            "_view_module": "@jupyter-widgets/controls",
            "_view_module_version": "1.5.0",
            "_view_name": "HTMLView",
            "description": "",
            "description_tooltip": null,
            "layout": "IPY_MODEL_0da02e857145404f91fb457637cc0c98",
            "placeholder": "​",
            "style": "IPY_MODEL_07ab1411709f417995c19d151cba566a",
            "value": " 10000/10000 [00:03&lt;00:00, 3149.14it/s]"
          }
        },
        "495d13490eda462b8b0093814a858d71": {
          "model_module": "@jupyter-widgets/base",
          "model_module_version": "1.2.0",
          "model_name": "LayoutModel",
          "state": {
            "_model_module": "@jupyter-widgets/base",
            "_model_module_version": "1.2.0",
            "_model_name": "LayoutModel",
            "_view_count": null,
            "_view_module": "@jupyter-widgets/base",
            "_view_module_version": "1.2.0",
            "_view_name": "LayoutView",
            "align_content": null,
            "align_items": null,
            "align_self": null,
            "border": null,
            "bottom": null,
            "display": null,
            "flex": null,
            "flex_flow": null,
            "grid_area": null,
            "grid_auto_columns": null,
            "grid_auto_flow": null,
            "grid_auto_rows": null,
            "grid_column": null,
            "grid_gap": null,
            "grid_row": null,
            "grid_template_areas": null,
            "grid_template_columns": null,
            "grid_template_rows": null,
            "height": null,
            "justify_content": null,
            "justify_items": null,
            "left": null,
            "margin": null,
            "max_height": null,
            "max_width": null,
            "min_height": null,
            "min_width": null,
            "object_fit": null,
            "object_position": null,
            "order": null,
            "overflow": null,
            "overflow_x": null,
            "overflow_y": null,
            "padding": null,
            "right": null,
            "top": null,
            "visibility": null,
            "width": null
          }
        },
        "49a1ac6fce164ee1aa75ef7d42f4720a": {
          "model_module": "@jupyter-widgets/controls",
          "model_module_version": "1.5.0",
          "model_name": "DescriptionStyleModel",
          "state": {
            "_model_module": "@jupyter-widgets/controls",
            "_model_module_version": "1.5.0",
            "_model_name": "DescriptionStyleModel",
            "_view_count": null,
            "_view_module": "@jupyter-widgets/base",
            "_view_module_version": "1.2.0",
            "_view_name": "StyleView",
            "description_width": ""
          }
        },
        "614ef45208ea4ab0942eb837f695951b": {
          "model_module": "@jupyter-widgets/controls",
          "model_module_version": "1.5.0",
          "model_name": "HTMLModel",
          "state": {
            "_dom_classes": [],
            "_model_module": "@jupyter-widgets/controls",
            "_model_module_version": "1.5.0",
            "_model_name": "HTMLModel",
            "_view_count": null,
            "_view_module": "@jupyter-widgets/controls",
            "_view_module_version": "1.5.0",
            "_view_name": "HTMLView",
            "description": "",
            "description_tooltip": null,
            "layout": "IPY_MODEL_495d13490eda462b8b0093814a858d71",
            "placeholder": "​",
            "style": "IPY_MODEL_49a1ac6fce164ee1aa75ef7d42f4720a",
            "value": "100%"
          }
        },
        "65c64175cc064fa382f76c7b7af8740a": {
          "model_module": "@jupyter-widgets/base",
          "model_module_version": "1.2.0",
          "model_name": "LayoutModel",
          "state": {
            "_model_module": "@jupyter-widgets/base",
            "_model_module_version": "1.2.0",
            "_model_name": "LayoutModel",
            "_view_count": null,
            "_view_module": "@jupyter-widgets/base",
            "_view_module_version": "1.2.0",
            "_view_name": "LayoutView",
            "align_content": null,
            "align_items": null,
            "align_self": null,
            "border": null,
            "bottom": null,
            "display": null,
            "flex": null,
            "flex_flow": null,
            "grid_area": null,
            "grid_auto_columns": null,
            "grid_auto_flow": null,
            "grid_auto_rows": null,
            "grid_column": null,
            "grid_gap": null,
            "grid_row": null,
            "grid_template_areas": null,
            "grid_template_columns": null,
            "grid_template_rows": null,
            "height": null,
            "justify_content": null,
            "justify_items": null,
            "left": null,
            "margin": null,
            "max_height": null,
            "max_width": null,
            "min_height": null,
            "min_width": null,
            "object_fit": null,
            "object_position": null,
            "order": null,
            "overflow": null,
            "overflow_x": null,
            "overflow_y": null,
            "padding": null,
            "right": null,
            "top": null,
            "visibility": null,
            "width": null
          }
        },
        "7cc9f5ec6d0b4b47b0811224100ed4b0": {
          "model_module": "@jupyter-widgets/base",
          "model_module_version": "1.2.0",
          "model_name": "LayoutModel",
          "state": {
            "_model_module": "@jupyter-widgets/base",
            "_model_module_version": "1.2.0",
            "_model_name": "LayoutModel",
            "_view_count": null,
            "_view_module": "@jupyter-widgets/base",
            "_view_module_version": "1.2.0",
            "_view_name": "LayoutView",
            "align_content": null,
            "align_items": null,
            "align_self": null,
            "border": null,
            "bottom": null,
            "display": null,
            "flex": null,
            "flex_flow": null,
            "grid_area": null,
            "grid_auto_columns": null,
            "grid_auto_flow": null,
            "grid_auto_rows": null,
            "grid_column": null,
            "grid_gap": null,
            "grid_row": null,
            "grid_template_areas": null,
            "grid_template_columns": null,
            "grid_template_rows": null,
            "height": null,
            "justify_content": null,
            "justify_items": null,
            "left": null,
            "margin": null,
            "max_height": null,
            "max_width": null,
            "min_height": null,
            "min_width": null,
            "object_fit": null,
            "object_position": null,
            "order": null,
            "overflow": null,
            "overflow_x": null,
            "overflow_y": null,
            "padding": null,
            "right": null,
            "top": null,
            "visibility": null,
            "width": null
          }
        },
        "80355af4ddb645b1bdfc76f668355ce4": {
          "model_module": "@jupyter-widgets/base",
          "model_module_version": "1.2.0",
          "model_name": "LayoutModel",
          "state": {
            "_model_module": "@jupyter-widgets/base",
            "_model_module_version": "1.2.0",
            "_model_name": "LayoutModel",
            "_view_count": null,
            "_view_module": "@jupyter-widgets/base",
            "_view_module_version": "1.2.0",
            "_view_name": "LayoutView",
            "align_content": null,
            "align_items": null,
            "align_self": null,
            "border": null,
            "bottom": null,
            "display": null,
            "flex": null,
            "flex_flow": null,
            "grid_area": null,
            "grid_auto_columns": null,
            "grid_auto_flow": null,
            "grid_auto_rows": null,
            "grid_column": null,
            "grid_gap": null,
            "grid_row": null,
            "grid_template_areas": null,
            "grid_template_columns": null,
            "grid_template_rows": null,
            "height": null,
            "justify_content": null,
            "justify_items": null,
            "left": null,
            "margin": null,
            "max_height": null,
            "max_width": null,
            "min_height": null,
            "min_width": null,
            "object_fit": null,
            "object_position": null,
            "order": null,
            "overflow": null,
            "overflow_x": null,
            "overflow_y": null,
            "padding": null,
            "right": null,
            "top": null,
            "visibility": null,
            "width": null
          }
        },
        "9585d335712a4a6fa858178e457106af": {
          "model_module": "@jupyter-widgets/controls",
          "model_module_version": "1.5.0",
          "model_name": "HTMLModel",
          "state": {
            "_dom_classes": [],
            "_model_module": "@jupyter-widgets/controls",
            "_model_module_version": "1.5.0",
            "_model_name": "HTMLModel",
            "_view_count": null,
            "_view_module": "@jupyter-widgets/controls",
            "_view_module_version": "1.5.0",
            "_view_name": "HTMLView",
            "description": "",
            "description_tooltip": null,
            "layout": "IPY_MODEL_65c64175cc064fa382f76c7b7af8740a",
            "placeholder": "​",
            "style": "IPY_MODEL_f6a01ab9130e4afca0734e3c62a8895b",
            "value": " 10000/10000 [00:10&lt;00:00, 1063.52it/s]"
          }
        },
        "969aecea39d04e9bbfbd16ca3c185d06": {
          "model_module": "@jupyter-widgets/base",
          "model_module_version": "1.2.0",
          "model_name": "LayoutModel",
          "state": {
            "_model_module": "@jupyter-widgets/base",
            "_model_module_version": "1.2.0",
            "_model_name": "LayoutModel",
            "_view_count": null,
            "_view_module": "@jupyter-widgets/base",
            "_view_module_version": "1.2.0",
            "_view_name": "LayoutView",
            "align_content": null,
            "align_items": null,
            "align_self": null,
            "border": null,
            "bottom": null,
            "display": null,
            "flex": null,
            "flex_flow": null,
            "grid_area": null,
            "grid_auto_columns": null,
            "grid_auto_flow": null,
            "grid_auto_rows": null,
            "grid_column": null,
            "grid_gap": null,
            "grid_row": null,
            "grid_template_areas": null,
            "grid_template_columns": null,
            "grid_template_rows": null,
            "height": null,
            "justify_content": null,
            "justify_items": null,
            "left": null,
            "margin": null,
            "max_height": null,
            "max_width": null,
            "min_height": null,
            "min_width": null,
            "object_fit": null,
            "object_position": null,
            "order": null,
            "overflow": null,
            "overflow_x": null,
            "overflow_y": null,
            "padding": null,
            "right": null,
            "top": null,
            "visibility": null,
            "width": null
          }
        },
        "a2f79464c99f46cfbe94a38f90aa27fb": {
          "model_module": "@jupyter-widgets/controls",
          "model_module_version": "1.5.0",
          "model_name": "HBoxModel",
          "state": {
            "_dom_classes": [],
            "_model_module": "@jupyter-widgets/controls",
            "_model_module_version": "1.5.0",
            "_model_name": "HBoxModel",
            "_view_count": null,
            "_view_module": "@jupyter-widgets/controls",
            "_view_module_version": "1.5.0",
            "_view_name": "HBoxView",
            "box_style": "",
            "children": [
              "IPY_MODEL_614ef45208ea4ab0942eb837f695951b",
              "IPY_MODEL_22d98af70c4e4cbf8263fc854a34b65d",
              "IPY_MODEL_3cd69a46618d474f9b6159415be00fda"
            ],
            "layout": "IPY_MODEL_30d76cad606b490b845c4f45f0f9d728"
          }
        },
        "a40019fc932d425d9b963565e4babb22": {
          "model_module": "@jupyter-widgets/controls",
          "model_module_version": "1.5.0",
          "model_name": "HTMLModel",
          "state": {
            "_dom_classes": [],
            "_model_module": "@jupyter-widgets/controls",
            "_model_module_version": "1.5.0",
            "_model_name": "HTMLModel",
            "_view_count": null,
            "_view_module": "@jupyter-widgets/controls",
            "_view_module_version": "1.5.0",
            "_view_name": "HTMLView",
            "description": "",
            "description_tooltip": null,
            "layout": "IPY_MODEL_969aecea39d04e9bbfbd16ca3c185d06",
            "placeholder": "​",
            "style": "IPY_MODEL_dcad222d5fd046d7b90f94cc396ef7f3",
            "value": "100%"
          }
        },
        "c6110b08f5174cd89e64a906bafac8a9": {
          "model_module": "@jupyter-widgets/base",
          "model_module_version": "1.2.0",
          "model_name": "LayoutModel",
          "state": {
            "_model_module": "@jupyter-widgets/base",
            "_model_module_version": "1.2.0",
            "_model_name": "LayoutModel",
            "_view_count": null,
            "_view_module": "@jupyter-widgets/base",
            "_view_module_version": "1.2.0",
            "_view_name": "LayoutView",
            "align_content": null,
            "align_items": null,
            "align_self": null,
            "border": null,
            "bottom": null,
            "display": null,
            "flex": null,
            "flex_flow": null,
            "grid_area": null,
            "grid_auto_columns": null,
            "grid_auto_flow": null,
            "grid_auto_rows": null,
            "grid_column": null,
            "grid_gap": null,
            "grid_row": null,
            "grid_template_areas": null,
            "grid_template_columns": null,
            "grid_template_rows": null,
            "height": null,
            "justify_content": null,
            "justify_items": null,
            "left": null,
            "margin": null,
            "max_height": null,
            "max_width": null,
            "min_height": null,
            "min_width": null,
            "object_fit": null,
            "object_position": null,
            "order": null,
            "overflow": null,
            "overflow_x": null,
            "overflow_y": null,
            "padding": null,
            "right": null,
            "top": null,
            "visibility": null,
            "width": null
          }
        },
        "d4bccb486f4f48da826a00f6698aa047": {
          "model_module": "@jupyter-widgets/controls",
          "model_module_version": "1.5.0",
          "model_name": "FloatProgressModel",
          "state": {
            "_dom_classes": [],
            "_model_module": "@jupyter-widgets/controls",
            "_model_module_version": "1.5.0",
            "_model_name": "FloatProgressModel",
            "_view_count": null,
            "_view_module": "@jupyter-widgets/controls",
            "_view_module_version": "1.5.0",
            "_view_name": "ProgressView",
            "bar_style": "success",
            "description": "",
            "description_tooltip": null,
            "layout": "IPY_MODEL_80355af4ddb645b1bdfc76f668355ce4",
            "max": 10000,
            "min": 0,
            "orientation": "horizontal",
            "style": "IPY_MODEL_1f441b34f82c4a05af1c71df067fb8b5",
            "value": 10000
          }
        },
        "dcad222d5fd046d7b90f94cc396ef7f3": {
          "model_module": "@jupyter-widgets/controls",
          "model_module_version": "1.5.0",
          "model_name": "DescriptionStyleModel",
          "state": {
            "_model_module": "@jupyter-widgets/controls",
            "_model_module_version": "1.5.0",
            "_model_name": "DescriptionStyleModel",
            "_view_count": null,
            "_view_module": "@jupyter-widgets/base",
            "_view_module_version": "1.2.0",
            "_view_name": "StyleView",
            "description_width": ""
          }
        },
        "f6a01ab9130e4afca0734e3c62a8895b": {
          "model_module": "@jupyter-widgets/controls",
          "model_module_version": "1.5.0",
          "model_name": "DescriptionStyleModel",
          "state": {
            "_model_module": "@jupyter-widgets/controls",
            "_model_module_version": "1.5.0",
            "_model_name": "DescriptionStyleModel",
            "_view_count": null,
            "_view_module": "@jupyter-widgets/base",
            "_view_module_version": "1.2.0",
            "_view_name": "StyleView",
            "description_width": ""
          }
        }
      }
    }
  },
  "nbformat": 4,
  "nbformat_minor": 0
}
