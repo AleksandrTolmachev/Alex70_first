{
 "cells": [
  {
   "attachments": {},
   "cell_type": "markdown",
   "metadata": {},
   "source": [
    "Задание 2:\n",
    "Посчитать коэффициент линейной регрессии при заработной плате (zp), используя градиентный спуск (без intercept)."
   ]
  },
  {
   "cell_type": "code",
   "execution_count": 4,
   "metadata": {},
   "outputs": [],
   "source": [
    "import numpy as np\n",
    "import matplotlib.pyplot as plt\n",
    "\n",
    "zp = np.array([35, 45, 190, 200, 40, 70, 54, 150, 120, 110])\n",
    "ks = np.array([401, 574, 874, 919, 459, 739, 653, 902, 746, 832])\n"
   ]
  },
  {
   "attachments": {},
   "cell_type": "markdown",
   "metadata": {},
   "source": [
    "Рассчитаем коэффициент линейной регрессии для b, посчитанного с использованием математических операций:"
   ]
  },
  {
   "cell_type": "code",
   "execution_count": 16,
   "metadata": {},
   "outputs": [
    {
     "data": {
      "text/plain": [
       "203722.4048006"
      ]
     },
     "execution_count": 16,
     "metadata": {},
     "output_type": "execute_result"
    }
   ],
   "source": [
    "def mse(b, x, y):\n",
    "    return np.sum((b * x - y) ** 2) / n\n",
    "\n",
    "n = 10\n",
    "b = 2.621\n",
    "mse(b, zp, ks)"
   ]
  },
  {
   "attachments": {},
   "cell_type": "markdown",
   "metadata": {},
   "source": [
    "Вычислим производную полученной функции потерь:"
   ]
  },
  {
   "cell_type": "code",
   "execution_count": 17,
   "metadata": {},
   "outputs": [
    {
     "name": "stdout",
     "output_type": "stream",
     "text": [
      ">>> Итерация #0, b=0.25952808000000005, mse=493237.7212546963\n",
      ">>> Итерация #300, b=5.888531320728348, mse=56516.88130936019\n",
      ">>> Итерация #600, b=5.889820124983314, mse=56516.85841572062\n",
      ">>> Итерация #628, b=5.889820285147628, mse=56516.85841571966,\n",
      ">>> Достигнут минимум\n",
      ">>> Получили 5.889820285147628 \n"
     ]
    }
   ],
   "source": [
    "def mse_p(b,x,y):\n",
    "    return (2 / n) * np.sum((b * x - y) * x)\n",
    "\n",
    "alpha = 1e-6\n",
    "b = 0.1\n",
    "mse_min = mse(b, zp, ks)\n",
    "i_min = 1\n",
    "b_min = b\n",
    "n = 10\n",
    "iteration = 30000\n",
    "for i in range(iteration):\n",
    "    b -= alpha * mse_p(b, zp, ks)\n",
    "    if i % 300 == 0:\n",
    "        print(f'>>> Итерация #{i}, b={b}, mse={mse(b, zp, ks)}')\n",
    "    if mse(b, zp, ks) > mse_min:\n",
    "        print(f'>>> Итерация #{i_min}, b={b_min}, mse={mse_min},\\n>>> Достигнут минимум\\n>>> Получили {b_min} ')\n",
    "        break\n",
    "    else:\n",
    "        mse_min = mse(b,zp,ks)\n",
    "        i_min = i\n",
    "        b_min = b"
   ]
  },
  {
   "attachments": {},
   "cell_type": "markdown",
   "metadata": {},
   "source": [
    "Задание 3:\n",
    "Произвести вычисления как в пункте 2, но с вычислением intercept. Учесть, что изменение коэффициентов должно производиться на каждом шаге одновременно (то есть изменение одного коэффициента не должно влиять на изменение другого во время одной итерации)."
   ]
  },
  {
   "attachments": {},
   "cell_type": "markdown",
   "metadata": {},
   "source": [
    "Функция потерь для ab:"
   ]
  },
  {
   "cell_type": "code",
   "execution_count": 11,
   "metadata": {},
   "outputs": [],
   "source": [
    "def mse_ab(a, b, x, y):\n",
    "    return np.sum(((a + b * x)-y) ** 2) / len(x)"
   ]
  },
  {
   "attachments": {},
   "cell_type": "markdown",
   "metadata": {},
   "source": [
    "Производная функции потерь для a:"
   ]
  },
  {
   "cell_type": "code",
   "execution_count": 12,
   "metadata": {},
   "outputs": [],
   "source": [
    "def mse_pa(a, b, x, y): \n",
    "    return 2 * np.sum((a + b * x) - y) / len(x)"
   ]
  },
  {
   "attachments": {},
   "cell_type": "markdown",
   "metadata": {},
   "source": [
    "Производная функции потерь для b:"
   ]
  },
  {
   "cell_type": "code",
   "execution_count": 13,
   "metadata": {},
   "outputs": [],
   "source": [
    "def mse_pb(a, b, x, y):\n",
    "    return 2 * np.sum(((a + b * x) - y) * x) / len(x)"
   ]
  },
  {
   "cell_type": "code",
   "execution_count": 14,
   "metadata": {},
   "outputs": [
    {
     "name": "stdout",
     "output_type": "stream",
     "text": [
      ">>> Итерация #0, a=0.14197959999999998, b=4.884978596113599, mse=70366.2821016992\n",
      ">>> Итерация #100000, a=347.2559075176058, b=3.3339127474648516, mse=8853.283372220058\n",
      ">>> Итерация #200000, a=423.0215571081485, b=2.7762525556795365, mse=6583.946467915477\n",
      ">>> Итерация #300000, a=439.5595159313502, b=2.6545277194387675, mse=6475.823468184463\n",
      ">>> Итерация #400000, a=443.16938509390076, b=2.6279578907579992, mse=6470.671926759022\n",
      ">>> Итерация #500000, a=443.95733936988626, b=2.622158287177236, mse=6470.426480562332\n",
      ">>> Итерация #600000, a=444.12933229069927, b=2.6208923625039224, mse=6470.414786230384\n",
      ">>> Итерация #700000, a=444.1668745259701, b=2.6206160392593607, mse=6470.41422905166\n",
      ">>> Итерация #800000, a=444.17506916225733, b=2.620555724031177, mse=6470.4142025047695\n",
      ">>> Итерация #848812, a=444.1762687850084, b=2.6205468944117247, mse=6470.414201477225,\n",
      "Достигнут минимум.\n",
      ">>> a = 444.1762687850084\n",
      ">>> b = 2.6205468944117247\n"
     ]
    }
   ],
   "source": [
    "alpha = 3e-5\n",
    "b = 0.1\n",
    "a = 0.1\n",
    "mseab_min = mse_ab(a, b, zp, ks)\n",
    "i_min = 1\n",
    "b_min = b\n",
    "a_min = a\n",
    "iteration = 1000000   \n",
    "for i in range(iteration):\n",
    "    a -= alpha * mse_pa(a, b, zp, ks)\n",
    "    b -= alpha * mse_pb(a, b, zp, ks)\n",
    "    if i % 100000 == 0:\n",
    "        print(f'>>> Итерация #{i}, a={a}, b={b}, mse={mse_ab(a, b, zp, ks)}')\n",
    "    if mse_ab(a, b, zp, ks) > mseab_min:\n",
    "        print(f'>>> Итерация #{i_min}, a={a_min}, b={b_min}, mse={mseab_min},\\nДостигнут минимум.')\n",
    "        break\n",
    "    else:\n",
    "        mseab_min = mse_ab(a, b, zp, ks)\n",
    "        i_min = i\n",
    "        b_min = b\n",
    "        a_min = a\n",
    "print(f'>>> a = {a_min}\\n>>> b = {b_min}')"
   ]
  },
  {
   "attachments": {},
   "cell_type": "markdown",
   "metadata": {},
   "source": [
    "Полученные коэффициенты практически соответствуют коэффициентам, полученным рассчётным путём с использованием математических операций в Задании 1."
   ]
  }
 ],
 "metadata": {
  "kernelspec": {
   "display_name": "Python 3",
   "language": "python",
   "name": "python3"
  },
  "language_info": {
   "codemirror_mode": {
    "name": "ipython",
    "version": 3
   },
   "file_extension": ".py",
   "mimetype": "text/x-python",
   "name": "python",
   "nbconvert_exporter": "python",
   "pygments_lexer": "ipython3",
   "version": "3.10.11"
  },
  "orig_nbformat": 4
 },
 "nbformat": 4,
 "nbformat_minor": 2
}
