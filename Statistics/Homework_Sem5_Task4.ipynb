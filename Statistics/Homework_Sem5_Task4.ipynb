{
 "cells": [
  {
   "cell_type": "code",
   "execution_count": 3,
   "metadata": {},
   "outputs": [
    {
     "data": {
      "text/plain": [
       "TtestResult(statistic=0.6648478531431979, pvalue=0.5228168632983574, df=9)"
      ]
     },
     "execution_count": 3,
     "metadata": {},
     "output_type": "execute_result"
    }
   ],
   "source": [
    "import scipy.stats as stats\n",
    "\n",
    "mothers = [172, 177, 158, 170, 178, 175, 164, 160, 169, 165]\n",
    "daughters = [173, 175, 162, 174, 175, 168, 155, 170, 160, 163]\n",
    "\n",
    "stats.ttest_rel(mothers, daughters)"
   ]
  }
 ],
 "metadata": {
  "kernelspec": {
   "display_name": "Python 3",
   "language": "python",
   "name": "python3"
  },
  "language_info": {
   "codemirror_mode": {
    "name": "ipython",
    "version": 3
   },
   "file_extension": ".py",
   "mimetype": "text/x-python",
   "name": "python",
   "nbconvert_exporter": "python",
   "pygments_lexer": "ipython3",
   "version": "3.10.10"
  },
  "orig_nbformat": 4,
  "vscode": {
   "interpreter": {
    "hash": "98cd0c80ee0ceef3f21f880fcfb68ab232712a75c89a8d40c6555e4ba03d7044"
   }
  }
 },
 "nbformat": 4,
 "nbformat_minor": 2
}
