{
 "cells": [
  {
   "cell_type": "code",
   "execution_count": null,
   "id": "5c1cb1de",
   "metadata": {},
   "outputs": [],
   "source": [
    "# Дана функция f(x) = 5x^2 + 10x - 30\n",
    "\n",
    "# 1. Определить корни (найти такие х, при которых f(x) = 0) - корни уравнения  f(x) = 0\n",
    "\n",
    "# 2. Найти интервалы, на которых функция возрастает (решить неравенства где производная больше или меньше нуля)\n",
    "\n",
    "# 3. Найти интервалы, на которых функция убывает\n",
    "\n",
    "# 4. Построить график\n",
    "\n",
    "# 5. Вычислить вершину (найти производню и приравнять к нулю)\n",
    "\n",
    "# 6. Определить промежутки, на котором f > 0 (Найти такие x, при которых f(х) > 0) неравенствo f(x) > 0\n",
    "\n",
    "# 7. Определить промежутки, на котором f < 0 ( Найти такие x, при которых f(х) < 0) неравенствo f(x) < 0\n",
    "\n",
    "# Какие методы потребуются: (sympy)\n",
    "# 1) Методы решающие уравнения\n",
    "# 2) Методы решающие неравенства\n",
    "# 3) Методы, которые находят производную\n",
    "# 4) Метод, для простроения графика"
   ]
  },
  {
   "cell_type": "code",
   "execution_count": null,
   "id": "dcc7c529",
   "metadata": {},
   "outputs": [],
   "source": [
    "from sympy.plotting import plot\n",
    "from sympy import Symbol, solve, diff, evalf, solveset, S, pprint\n",
    "# 4. Построить график\n",
    "x = Symbol('x')\n",
    "f = 5*x**2 + 10*x - 30\n",
    "p1 = plot(f, show=False)\n",
    "p1.show()"
   ]
  },
  {
   "cell_type": "code",
   "execution_count": null,
   "id": "155d597e",
   "metadata": {},
   "outputs": [],
   "source": [
    "# 1. Определить корни\n",
    "ans = solve(f,x)\n",
    "print(ans)\n",
    "for i in ans:\n",
    "    print(i.evalf())\n"
   ]
  },
  {
   "cell_type": "code",
   "execution_count": null,
   "id": "8a6f8959",
   "metadata": {},
   "outputs": [],
   "source": [
    "# 6. Определить промежутки, на котором f > 0 (Найти такие x, при которых f(х) > 0) неравенствo f(x) > 0\n",
    "\n",
    "pprint(solveset(f > 0, x, domain=S.Reals), use_unicode=True)\n"
   ]
  },
  {
   "cell_type": "code",
   "execution_count": null,
   "id": "f18c40ad",
   "metadata": {},
   "outputs": [],
   "source": [
    "# 7. Определить промежутки, на котором f < 0 ( Найти такие x, при которых f(х) < 0) неравенствo f(x) < 0\n",
    "\n",
    "pprint(solveset(f < 0, x, domain=S.Reals), use_unicode=True)"
   ]
  },
  {
   "cell_type": "code",
   "execution_count": null,
   "id": "6bc83e81",
   "metadata": {},
   "outputs": [],
   "source": [
    "# 5. Вычислить вершину (найти производню и приравнять к нулю)\n",
    "\n",
    "diff_f = diff(f,x)\n",
    "print(diff_f)\n",
    "solve(diff_f,x)"
   ]
  },
  {
   "cell_type": "code",
   "execution_count": null,
   "id": "55f08713",
   "metadata": {},
   "outputs": [],
   "source": [
    "# 2. Найти интервалы, на которых функция возрастает\n",
    "\n",
    "pprint(solveset(diff_f > 0, x, domain=S.Reals), use_unicode=True)"
   ]
  },
  {
   "cell_type": "code",
   "execution_count": null,
   "id": "d6c94756",
   "metadata": {},
   "outputs": [],
   "source": [
    "# 3. Найти интервалы, на которых функция убывает\n",
    "\n",
    "pprint(solveset(diff_f < 0, x, domain=S.Reals), use_unicode=True)"
   ]
  },
  {
   "cell_type": "code",
   "execution_count": null,
   "id": "feb252d4",
   "metadata": {},
   "outputs": [],
   "source": [
    "cords = []\n",
    "for i in range(-100,100):\n",
    "    cords.append(5*i**2 + 10*i - 30)\n",
    "print(cords)"
   ]
  }
 ],
 "metadata": {
  "kernelspec": {
   "display_name": "Python 3",
   "language": "python",
   "name": "python3"
  },
  "language_info": {
   "codemirror_mode": {
    "name": "ipython",
    "version": 3
   },
   "file_extension": ".py",
   "mimetype": "text/x-python",
   "name": "python",
   "nbconvert_exporter": "python",
   "pygments_lexer": "ipython3",
   "version": "3.10.8"
  },
  "vscode": {
   "interpreter": {
    "hash": "98cd0c80ee0ceef3f21f880fcfb68ab232712a75c89a8d40c6555e4ba03d7044"
   }
  }
 },
 "nbformat": 4,
 "nbformat_minor": 5
}
