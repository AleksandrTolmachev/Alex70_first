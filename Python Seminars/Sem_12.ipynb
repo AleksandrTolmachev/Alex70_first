{
 "cells": [
  {
   "cell_type": "code",
   "execution_count": 1,
   "id": "8772f89d",
   "metadata": {},
   "outputs": [],
   "source": [
    "# Дана задача: \n",
    "\n",
    "# К аналитику обратился риэлтор c задачей выставить ценник для продажи объектов недвижимости площадью 48м2 и 54м2. \n",
    "# В ходе работы над задачей аналитик выяснил, что:  \n",
    "\n",
    "# объект 31м2 стоит $19310\n",
    "\n",
    "# объект 51м2 стоит $52150\n",
    "\n",
    "# объект 61м2 стоит $74570\n",
    "\n",
    "# Вопрос: что. сказать риелтору?\n",
    "\n",
    "# f(s) = a*s^2 + b*s  + c\n",
    "\n",
    "# Задача сводится к нахождению коэффициентов a,b,c путем решения сиситемы уравнений:\n",
    "\n",
    "# a*(31**2) + 31*b + c = 19310\n",
    "# a*(51**2) + 51*b + c = 52150\n",
    "# a*(61**2) + 61*b + c = 74570\n",
    "\n",
    "import sympy"
   ]
  },
  {
   "cell_type": "code",
   "execution_count": 2,
   "id": "a345ada6",
   "metadata": {},
   "outputs": [
    {
     "name": "stdout",
     "output_type": "stream",
     "text": [
      "20 2 28\n",
      "(20, 2, 28)\n"
     ]
    }
   ],
   "source": [
    "a, b, c = sympy.symbols('a, b, c')\n",
    "eq1 = a*(31**2) + 31*b + c - 19310\n",
    "eq2 = a*(51**2) + 51*b + c - 52150\n",
    "eq3 = a*(61**2) + 61*b + c - 74570\n",
    "lin_sys = [eq1,eq2,eq3]\n",
    "a, b, c = tuple(sympy.linsolve(lin_sys, a, b, c))[0]\n",
    "print(a, b, c)\n",
    "print(tuple(sympy.solve(lin_sys).values()))"
   ]
  },
  {
   "cell_type": "code",
   "execution_count": 6,
   "id": "fd47dd35",
   "metadata": {},
   "outputs": [
    {
     "name": "stdout",
     "output_type": "stream",
     "text": [
      "Площадь объекта: 54\n",
      "58456\n"
     ]
    }
   ],
   "source": [
    "s = sympy.Symbol('s')\n",
    "f = a*s**2 + b*s  + c\n",
    "square = int(input(\"Площадь объекта: \"))\n",
    "print(f'Площадь объекта: {square}')\n",
    "print(int(f.evalf(subs= {s:square})))"
   ]
  }
 ],
 "metadata": {
  "kernelspec": {
   "display_name": "Python 3",
   "language": "python",
   "name": "python3"
  },
  "language_info": {
   "codemirror_mode": {
    "name": "ipython",
    "version": 3
   },
   "file_extension": ".py",
   "mimetype": "text/x-python",
   "name": "python",
   "nbconvert_exporter": "python",
   "pygments_lexer": "ipython3",
   "version": "3.10.8"
  },
  "vscode": {
   "interpreter": {
    "hash": "98cd0c80ee0ceef3f21f880fcfb68ab232712a75c89a8d40c6555e4ba03d7044"
   }
  }
 },
 "nbformat": 4,
 "nbformat_minor": 5
}
